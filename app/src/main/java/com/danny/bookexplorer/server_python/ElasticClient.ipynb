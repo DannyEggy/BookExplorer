{
 "cells": [
  {
   "cell_type": "code",
   "execution_count": 1,
   "metadata": {},
   "outputs": [
    {
     "name": "stdout",
     "output_type": "stream",
     "text": [
      "<bound method Elasticsearch.ping of <Elasticsearch(['https://2ce12071820d46a89a26f4c2454d49d3.us-central1.gcp.cloud.es.io:443'])>>\n"
     ]
    }
   ],
   "source": [
    "from elasticsearch import Elasticsearch\n",
    "\n",
    "\n",
    "# url =\"https://booksearch.es.us-central1.gcp.cloud.es.io/\"\n",
    "# cloud_id = \"booksearch:dXMtY2VudHJhbDEuZ2NwLmNsb3VkLmVzLmlvJDg0NjljZWUyZGI2MjRkNmZiYzA0ZjM2NjJmYjgxMjIyJGMyN2Y2YzE4OGYxMzQ5ZDFhMzRmZDE4NjY3MjU0OWIy\"\n",
    "username = \"elastic\"\n",
    "password = \"CEXkB1JXAzS1kXcjVnQJhX0k\"\n",
    "# Tạo đối tượng Elasticsearch\n",
    "\n",
    "es = Elasticsearch(\n",
    "    cloud_id=\"ba33129799b54d9394d6041531f220b4:dXMtY2VudHJhbDEuZ2NwLmNsb3VkLmVzLmlvOjQ0MyQyY2UxMjA3MTgyMGQ0NmE4OWEyNmY0YzI0NTRkNDlkMyQ1N2I2ZTc5Mjc3OGM0Y2EyYjlhYTMwMzljNzMzMzU2Zg==\",\n",
    "    basic_auth=(username, password)\n",
    ")\n",
    "print(es.ping)\n",
    "\n"
   ]
  },
  {
   "cell_type": "code",
   "execution_count": 2,
   "metadata": {},
   "outputs": [
    {
     "name": "stderr",
     "output_type": "stream",
     "text": [
      "C:\\Users\\DELL\\AppData\\Roaming\\Python\\Python311\\site-packages\\tqdm\\auto.py:22: TqdmWarning: IProgress not found. Please update jupyter and ipywidgets. See https://ipywidgets.readthedocs.io/en/stable/user_install.html\n",
      "  from .autonotebook import tqdm as notebook_tqdm\n"
     ]
    }
   ],
   "source": [
    "import numpy as np\n",
    "from sentence_transformers import SentenceTransformer, util\n",
    "model = SentenceTransformer('all-MiniLM-L6-v2')\n",
    "from tqdm.auto import tqdm\n",
    "tqdm.pandas()\n",
    "import uuid\n",
    "from elasticsearch import helpers"
   ]
  },
  {
   "cell_type": "code",
   "execution_count": 3,
   "metadata": {},
   "outputs": [],
   "source": [
    "class Tokenizer(object):\n",
    "    def __init__(self):\n",
    "        self.model = SentenceTransformer('all-MiniLM-L6-v2')\n",
    "\n",
    "    def get_token(self, documents):\n",
    "        sentences  = [documents]\n",
    "        sentence_embeddings = self.model.encode(sentences)\n",
    "        encod_np_array = np.array(sentence_embeddings)\n",
    "        encod_list = encod_np_array.tolist()\n",
    "        return encod_list[0]"
   ]
  },
  {
   "cell_type": "code",
   "execution_count": 4,
   "metadata": {},
   "outputs": [],
   "source": [
    "token_instance = Tokenizer()"
   ]
  },
  {
   "cell_type": "code",
   "execution_count": 15,
   "metadata": {},
   "outputs": [
    {
     "name": "stdout",
     "output_type": "stream",
     "text": [
      "Index(['id', 'title', 'desc', 'authors', 'categories', 'averagerating',\n",
      "       'maturityrating', 'publisheddate', 'pagecount'],\n",
      "      dtype='object')\n"
     ]
    }
   ],
   "source": [
    "#Read dataset and cleaning data\n",
    "import pandas as pd\n",
    "\n",
    "# Load the dataset\n",
    "df = pd.read_csv(\"GoogleBookAPIDataset.csv\")\n",
    "\n",
    "# Drop unnecessary columns\n",
    "df = df.drop(columns=['Unnamed: 0'])\n",
    "\n",
    "# Handle duplicates\n",
    "df = df.drop_duplicates()\n",
    "\n",
    "# Standardize column names\n",
    "df.columns = df.columns.str.lower().str.replace(' ', '_')\n",
    "\n",
    "# Handle missing values\n",
    "df = df.dropna()\n",
    "\n",
    "df = df.iloc[:, 1:]\n",
    "\n",
    "print(df.columns)\n",
    "\n",
    "\n",
    "\n"
   ]
  },
  {
   "cell_type": "code",
   "execution_count": 5,
   "metadata": {},
   "outputs": [
    {
     "name": "stdout",
     "output_type": "stream",
     "text": [
      "Index(['id', 'title', 'desc', 'authors', 'categories', 'averagerating',\n",
      "       'maturityrating', 'publisheddate', 'pagecount'],\n",
      "      dtype='object')\n",
      "             id                                              title  \\\n",
      "0  TO_dEAAAQBAJ                               Lập trình với Python   \n",
      "1  evDdEAAAQBAJ                     Coding 10 Lập trình với Python   \n",
      "2  NF3oEAAAQBAJ                      Coding 8 Lập trình với Python   \n",
      "3  O99WEAAAQBAJ  Sách luyện thi Hội thi Tin học trẻ với Python ...   \n",
      "4  w-TaAAAAMAAJ    Động vật chí Việt Nam: Phân bộ̣ rá̆n, Serpentes   \n",
      "5  ExKs2q51U9UC                         Tập san nghiên cứu lịch sử   \n",
      "\n",
      "                                                desc   authors categories  \\\n",
      "0  Python là gì Theo chỉ số phổ biến của ngôn ngữ...  VIETSTEM  Education   \n",
      "1  Tại sao cần yêu công nghệ, cần làm chủ công ng...  VIETSTEM  Education   \n",
      "2                                               null  VIETSTEM  Computers   \n",
      "3  Trong năm 2021, với cú pháp đơn giản, dễ học, ...  VIETSTEM  Education   \n",
      "4                                               null      null    Animals   \n",
      "5                                               null      null    Vietnam   \n",
      "\n",
      "   averagerating maturityrating publisheddate  pagecount  \n",
      "0            0.0     NOT_MATURE    2023-10-19      234.0  \n",
      "1            0.0     NOT_MATURE    2023-10-19      201.0  \n",
      "2            0.0         MATURE    2023-12-31      198.0  \n",
      "3            4.0     NOT_MATURE    2021-12-29      202.0  \n",
      "4            0.0     NOT_MATURE    2007-01-01      274.0  \n",
      "5            0.0     NOT_MATURE    1959-01-01     1244.0  \n"
     ]
    }
   ],
   "source": [
    "import pandas as pd\n",
    "\n",
    "# Load the dataset\n",
    "df_vn = pd.read_csv(\"books.csv\")\n",
    "\n",
    "# Drop unnecessary columns\n",
    "# df_vn = df_vn.drop(columns=['Unnamed: 0'])\n",
    "\n",
    "# Handle duplicates\n",
    "df_vn = df_vn.drop_duplicates()\n",
    "\n",
    "# Replace blank values with null values\n",
    "df_vn = df_vn.fillna(\"null\")\n",
    "\n",
    "# Standardize column names\n",
    "df_vn.columns = df_vn.columns.str.lower().str.replace(' ', '_')\n",
    "\n",
    "df_vn['averagerating'] = pd.to_numeric(df_vn['averagerating'], errors='coerce').fillna(0)\n",
    "df_vn['publisheddate'] = pd.to_datetime(df_vn['publisheddate'], errors='coerce').fillna(pd.to_datetime('1970-01-01'))\n",
    "df_vn['pagecount'] = pd.to_numeric(df_vn['pagecount'], errors='coerce').fillna(0)\n",
    "\n",
    "\n",
    "\n",
    "# Handle missing values\n",
    "df_vn = df_vn.dropna()\n",
    "\n",
    "print(df_vn.columns)\n",
    "\n",
    "\n",
    "print(df_vn[:6])"
   ]
  },
  {
   "cell_type": "code",
   "execution_count": 17,
   "metadata": {},
   "outputs": [
    {
     "name": "stdout",
     "output_type": "stream",
     "text": [
      "             id                                              title  \\\n",
      "0  L2EQuwEACAAJ             Harry Potter and the Half-Blood Prince   \n",
      "1  YlMOvgAACAAJ             Harry Potter and the Half-blood Prince   \n",
      "2  8V9nnAEACAAJ             Harry Potter and the Half-Blood Prince   \n",
      "3  1YwtPwAACAAJ             Harry Potter and the Half-Blood Prince   \n",
      "4  ONbSoEKGthgC  ハリー・ポッターと謎のプリンス - Harry Potter and the Half-Bl...   \n",
      "\n",
      "                                                desc            authors  \\\n",
      "0  As Harry enters his sixth year at Hogwarts, a ...  ['J. K. Rowling']   \n",
      "1  Paperback edition of the sixth book in J.K. Ro...  ['J. K. Rowling']   \n",
      "2  Sequel to: Harry Potter and the Order of the P...  ['J. K. Rowling']   \n",
      "3  Sixth-year Hogwarts student Harry Potter gains...  ['J. K. Rowling']   \n",
      "4  ヴォルデモートの復活のせいで、夏だというのに国中に冷たい霧が立ち込めていた。そんな中を、ダー...   ['J.K. Rowling']   \n",
      "\n",
      "               categories  averagerating maturityrating publisheddate  \\\n",
      "0             ['England']            4.5     NOT_MATURE          2005   \n",
      "1  [\"Children's stories\"]            4.5     NOT_MATURE          2006   \n",
      "2    ['Juvenile Fiction']            4.5     NOT_MATURE    2013-08-27   \n",
      "3    ['Juvenile Fiction']            4.5     NOT_MATURE          2007   \n",
      "4             ['Fiction']            5.0     NOT_MATURE    2015-12-08   \n",
      "\n",
      "   pagecount  \n",
      "0      672.0  \n",
      "1      607.0  \n",
      "2      652.0  \n",
      "3      831.0  \n",
      "4      996.0  \n"
     ]
    }
   ],
   "source": [
    "# concat 2 data\n",
    "\n",
    "result = pd.concat([df, df_vn], axis=0)\n",
    "\n",
    "print(result[:5])\n",
    "\n",
    "# result.to_csv('data_books_test.csv', index=False, encoding=\"utf-8\")\n",
    "\n",
    "# result.drop_duplicates()\n",
    "\n",
    "\n",
    "# result = pd.read_csv('total_books.csv')\n",
    "# result = result.fillna(\"null\")\n",
    "# result\n"
   ]
  },
  {
   "cell_type": "code",
   "execution_count": 18,
   "metadata": {},
   "outputs": [
    {
     "name": "stdout",
     "output_type": "stream",
     "text": [
      "             id                 title  \\\n",
      "0  TO_dEAAAQBAJ  Lập trình với Python   \n",
      "\n",
      "                                                desc   authors categories  \\\n",
      "0  Python là gì Theo chỉ số phổ biến của ngôn ngữ...  VIETSTEM  Education   \n",
      "\n",
      "   averagerating maturityrating        publisheddate  pagecount  \n",
      "0            0.0     NOT_MATURE  2023-10-19 00:00:00      234.0  \n"
     ]
    }
   ],
   "source": [
    "row_with_id = result.loc[result['id'] == 'TO_dEAAAQBAJ']\n",
    "\n",
    "# In ra dòng có id 'TO_dEAAAQBAJ'\n",
    "print(row_with_id)"
   ]
  },
  {
   "cell_type": "code",
   "execution_count": 19,
   "metadata": {},
   "outputs": [
    {
     "name": "stderr",
     "output_type": "stream",
     "text": [
      "C:\\Users\\DELL\\AppData\\Local\\Temp\\ipykernel_3368\\525162218.py:2: DeprecationWarning: Passing transport options in the API method is deprecated. Use 'Elasticsearch.options()' instead.\n",
      "  es.indices.delete(index=\"books\", ignore=[400, 404])\n"
     ]
    },
    {
     "data": {
      "text/plain": [
       "ObjectApiResponse({'error': {'root_cause': [{'type': 'index_not_found_exception', 'reason': 'no such index [books]', 'resource.type': 'index_or_alias', 'resource.id': 'books', 'index_uuid': '_na_', 'index': 'books'}], 'type': 'index_not_found_exception', 'reason': 'no such index [books]', 'resource.type': 'index_or_alias', 'resource.id': 'books', 'index_uuid': '_na_', 'index': 'books'}, 'status': 404})"
      ]
     },
     "execution_count": 19,
     "metadata": {},
     "output_type": "execute_result"
    }
   ],
   "source": [
    "# delete index\n",
    "es.indices.delete(index=\"books\", ignore=[400, 404])"
   ]
  },
  {
   "cell_type": "code",
   "execution_count": 10,
   "metadata": {},
   "outputs": [
    {
     "name": "stderr",
     "output_type": "stream",
     "text": [
      "100%|██████████| 22332/22332 [29:20<00:00, 12.68it/s] \n"
     ]
    }
   ],
   "source": [
    "# convert description to vector of English Books\n",
    "df['vector'] = df['desc'].progress_apply(token_instance.get_token)"
   ]
  },
  {
   "cell_type": "code",
   "execution_count": 6,
   "metadata": {},
   "outputs": [
    {
     "name": "stderr",
     "output_type": "stream",
     "text": [
      "100%|██████████| 2321/2321 [02:37<00:00, 14.78it/s]"
     ]
    },
    {
     "name": "stdout",
     "output_type": "stream",
     "text": [
      "Index(['id', 'title', 'desc', 'authors', 'categories', 'averagerating',\n",
      "       'maturityrating', 'publisheddate', 'pagecount', 'vector'],\n",
      "      dtype='object')\n"
     ]
    },
    {
     "name": "stderr",
     "output_type": "stream",
     "text": [
      "\n"
     ]
    }
   ],
   "source": [
    "# convert description to vector of VN Books\n",
    "df_vn['vector'] = df_vn['desc'].progress_apply(token_instance.get_token)\n",
    "print(df_vn.columns)\n"
   ]
  },
  {
   "cell_type": "code",
   "execution_count": 20,
   "metadata": {},
   "outputs": [
    {
     "name": "stderr",
     "output_type": "stream",
     "text": [
      "100%|██████████| 24653/24653 [29:56<00:00, 13.72it/s] "
     ]
    },
    {
     "name": "stdout",
     "output_type": "stream",
     "text": [
      "Index(['id', 'title', 'desc', 'authors', 'categories', 'averagerating',\n",
      "       'maturityrating', 'publisheddate', 'pagecount', 'vector'],\n",
      "      dtype='object')\n"
     ]
    },
    {
     "name": "stderr",
     "output_type": "stream",
     "text": [
      "\n"
     ]
    }
   ],
   "source": [
    "result['vector'] = result['desc'].progress_apply(token_instance.get_token)\n",
    "print(result.columns)"
   ]
  },
  {
   "cell_type": "code",
   "execution_count": 27,
   "metadata": {},
   "outputs": [
    {
     "name": "stdout",
     "output_type": "stream",
     "text": [
      "Index(['id', 'title', 'desc', 'authors', 'categories', 'averagerating',\n",
      "       'maturityrating', 'publisheddate', 'pagecount'],\n",
      "      dtype='object')\n",
      "Index(['id', 'title', 'desc', 'authors', 'categories', 'averagerating',\n",
      "       'maturityrating', 'publisheddate', 'pagecount'],\n",
      "      dtype='object')\n"
     ]
    }
   ],
   "source": [
    "print(result.columns)\n",
    "print(df.columns)"
   ]
  },
  {
   "cell_type": "code",
   "execution_count": 21,
   "metadata": {},
   "outputs": [
    {
     "data": {
      "text/plain": [
       "ObjectApiResponse({'acknowledged': True, 'shards_acknowledged': True, 'index': 'books'})"
      ]
     },
     "execution_count": 21,
     "metadata": {},
     "output_type": "execute_result"
    }
   ],
   "source": [
    "#original\n",
    "#mapping step\n",
    "\n",
    "\n",
    "\n",
    "mappings = {\n",
    "    #tokenizing of data to words\n",
    "    \"properties\":{\n",
    "        \"id\":{\"type\":\"keyword\"},\n",
    "        \"title\":{\"type\":\"text\", \"analyzer\":\"english\"},\n",
    "        \"desc\":{\"type\":\"text\"},\n",
    "        \"desc_vector\": {\"type\": \"dense_vector\", \"dims\": 384, \"index\": True, \"similarity\": \"l2_norm\"},\n",
    "        \"authors\":{\"type\":\"keyword\"},\n",
    "        \"categories\": {\"type\": \"keyword\"},\n",
    "        \"averageRating\": {\"type\": \"float\"},\n",
    "        \"maturityRating\": {\"type\": \"keyword\"},\n",
    "        \"publishedDate\": {\"type\": \"date\"},\n",
    "        \"pageCount\": {\"type\": \"integer\"}\n",
    "    }\n",
    "}\n",
    "\n",
    "# create index books\n",
    "es.indices.create(index=\"books\", mappings=mappings)"
   ]
  },
  {
   "cell_type": "code",
   "execution_count": 7,
   "metadata": {},
   "outputs": [
    {
     "data": {
      "text/plain": [
       "ObjectApiResponse({'acknowledged': True, 'shards_acknowledged': True, 'index': 'books_test'})"
      ]
     },
     "execution_count": 7,
     "metadata": {},
     "output_type": "execute_result"
    }
   ],
   "source": [
    "#test\n",
    "\n",
    "mappings = {\n",
    "    \"properties\": {\n",
    "        \"id\": {\"type\": \"keyword\"},\n",
    "        \"title\": {\n",
    "            \"type\": \"text\",\n",
    "            \"analyzer\": \"english\",\n",
    "            \"fields\": {\n",
    "                \"autocomplete\": {\n",
    "                    \"type\": \"completion\"\n",
    "                }\n",
    "            }\n",
    "        },\n",
    "        \"desc\": {\"type\": \"text\"},\n",
    "        \"desc_vector\": {\"type\": \"dense_vector\", \"dims\": 384, \"index\": True, \"similarity\": \"l2_norm\"},\n",
    "        \"authors\": {\"type\": \"keyword\"},\n",
    "        \"categories\": {\"type\": \"keyword\"},\n",
    "        \"averageRating\": {\"type\": \"float\"},\n",
    "        \"maturityRating\": {\"type\": \"keyword\"},\n",
    "        \"publishedDate\": {\"type\": \"date\"},\n",
    "        \"pageCount\": {\"type\": \"integer\"}\n",
    "    }\n",
    "}\n",
    "\n",
    "# create index books\n",
    "es.indices.create(index=\"books_test\", mappings=mappings)"
   ]
  },
  {
   "cell_type": "code",
   "execution_count": 36,
   "metadata": {},
   "outputs": [
    {
     "ename": "KeyboardInterrupt",
     "evalue": "",
     "output_type": "error",
     "traceback": [
      "\u001b[1;31m---------------------------------------------------------------------------\u001b[0m",
      "\u001b[1;31mKeyboardInterrupt\u001b[0m                         Traceback (most recent call last)",
      "Cell \u001b[1;32mIn[36], line 15\u001b[0m\n\u001b[0;32m      2\u001b[0m \u001b[38;5;28;01mfor\u001b[39;00m i, row \u001b[38;5;129;01min\u001b[39;00m df\u001b[38;5;241m.\u001b[39miterrows():\n\u001b[0;32m      3\u001b[0m     doc \u001b[38;5;241m=\u001b[39m {\n\u001b[0;32m      4\u001b[0m         \u001b[38;5;124m\"\u001b[39m\u001b[38;5;124mid\u001b[39m\u001b[38;5;124m\"\u001b[39m: row[\u001b[38;5;124m\"\u001b[39m\u001b[38;5;124mid\u001b[39m\u001b[38;5;124m\"\u001b[39m],\n\u001b[0;32m      5\u001b[0m         \u001b[38;5;124m\"\u001b[39m\u001b[38;5;124mtitle\u001b[39m\u001b[38;5;124m\"\u001b[39m: row[\u001b[38;5;124m\"\u001b[39m\u001b[38;5;124mtitle\u001b[39m\u001b[38;5;124m\"\u001b[39m],\n\u001b[1;32m   (...)\u001b[0m\n\u001b[0;32m     12\u001b[0m         \u001b[38;5;124m\"\u001b[39m\u001b[38;5;124mpagecount\u001b[39m\u001b[38;5;124m\"\u001b[39m: row[\u001b[38;5;124m\"\u001b[39m\u001b[38;5;124mpagecount\u001b[39m\u001b[38;5;124m\"\u001b[39m]\n\u001b[0;32m     13\u001b[0m     }\n\u001b[1;32m---> 15\u001b[0m     \u001b[43mes\u001b[49m\u001b[38;5;241;43m.\u001b[39;49m\u001b[43mindex\u001b[49m\u001b[43m(\u001b[49m\u001b[43mindex\u001b[49m\u001b[38;5;241;43m=\u001b[39;49m\u001b[38;5;124;43m\"\u001b[39;49m\u001b[38;5;124;43mbooks\u001b[39;49m\u001b[38;5;124;43m\"\u001b[39;49m\u001b[43m,\u001b[49m\u001b[43m \u001b[49m\u001b[38;5;28;43mid\u001b[39;49m\u001b[38;5;241;43m=\u001b[39;49m\u001b[43mi\u001b[49m\u001b[43m,\u001b[49m\u001b[43m \u001b[49m\u001b[43mdocument\u001b[49m\u001b[38;5;241;43m=\u001b[39;49m\u001b[43mdoc\u001b[49m\u001b[43m)\u001b[49m\n",
      "File \u001b[1;32md:\\TDTU\\DuAnCNTT\\docker-elasticsearch\\.venv\\Lib\\site-packages\\elasticsearch\\_sync\\client\\utils.py:402\u001b[0m, in \u001b[0;36m_rewrite_parameters.<locals>.wrapper.<locals>.wrapped\u001b[1;34m(*args, **kwargs)\u001b[0m\n\u001b[0;32m    399\u001b[0m         \u001b[38;5;28;01mexcept\u001b[39;00m \u001b[38;5;167;01mKeyError\u001b[39;00m:\n\u001b[0;32m    400\u001b[0m             \u001b[38;5;28;01mpass\u001b[39;00m\n\u001b[1;32m--> 402\u001b[0m \u001b[38;5;28;01mreturn\u001b[39;00m \u001b[43mapi\u001b[49m\u001b[43m(\u001b[49m\u001b[38;5;241;43m*\u001b[39;49m\u001b[43margs\u001b[49m\u001b[43m,\u001b[49m\u001b[43m \u001b[49m\u001b[38;5;241;43m*\u001b[39;49m\u001b[38;5;241;43m*\u001b[39;49m\u001b[43mkwargs\u001b[49m\u001b[43m)\u001b[49m\n",
      "File \u001b[1;32md:\\TDTU\\DuAnCNTT\\docker-elasticsearch\\.venv\\Lib\\site-packages\\elasticsearch\\_sync\\client\\__init__.py:2249\u001b[0m, in \u001b[0;36mElasticsearch.index\u001b[1;34m(self, index, document, id, error_trace, filter_path, human, if_primary_term, if_seq_no, op_type, pipeline, pretty, refresh, require_alias, routing, timeout, version, version_type, wait_for_active_shards)\u001b[0m\n\u001b[0;32m   2247\u001b[0m __body \u001b[38;5;241m=\u001b[39m document\n\u001b[0;32m   2248\u001b[0m __headers \u001b[38;5;241m=\u001b[39m {\u001b[38;5;124m\"\u001b[39m\u001b[38;5;124maccept\u001b[39m\u001b[38;5;124m\"\u001b[39m: \u001b[38;5;124m\"\u001b[39m\u001b[38;5;124mapplication/json\u001b[39m\u001b[38;5;124m\"\u001b[39m, \u001b[38;5;124m\"\u001b[39m\u001b[38;5;124mcontent-type\u001b[39m\u001b[38;5;124m\"\u001b[39m: \u001b[38;5;124m\"\u001b[39m\u001b[38;5;124mapplication/json\u001b[39m\u001b[38;5;124m\"\u001b[39m}\n\u001b[1;32m-> 2249\u001b[0m \u001b[38;5;28;01mreturn\u001b[39;00m \u001b[38;5;28;43mself\u001b[39;49m\u001b[38;5;241;43m.\u001b[39;49m\u001b[43mperform_request\u001b[49m\u001b[43m(\u001b[49m\u001b[43m  \u001b[49m\u001b[38;5;66;43;03m# type: ignore[return-value]\u001b[39;49;00m\n\u001b[0;32m   2250\u001b[0m \u001b[43m    \u001b[49m\u001b[43m__method\u001b[49m\u001b[43m,\u001b[49m\u001b[43m \u001b[49m\u001b[43m__path\u001b[49m\u001b[43m,\u001b[49m\u001b[43m \u001b[49m\u001b[43mparams\u001b[49m\u001b[38;5;241;43m=\u001b[39;49m\u001b[43m__query\u001b[49m\u001b[43m,\u001b[49m\u001b[43m \u001b[49m\u001b[43mheaders\u001b[49m\u001b[38;5;241;43m=\u001b[39;49m\u001b[43m__headers\u001b[49m\u001b[43m,\u001b[49m\u001b[43m \u001b[49m\u001b[43mbody\u001b[49m\u001b[38;5;241;43m=\u001b[39;49m\u001b[43m__body\u001b[49m\n\u001b[0;32m   2251\u001b[0m \u001b[43m\u001b[49m\u001b[43m)\u001b[49m\n",
      "File \u001b[1;32md:\\TDTU\\DuAnCNTT\\docker-elasticsearch\\.venv\\Lib\\site-packages\\elasticsearch\\_sync\\client\\_base.py:285\u001b[0m, in \u001b[0;36mBaseClient.perform_request\u001b[1;34m(self, method, path, params, headers, body)\u001b[0m\n\u001b[0;32m    282\u001b[0m \u001b[38;5;28;01melse\u001b[39;00m:\n\u001b[0;32m    283\u001b[0m     target \u001b[38;5;241m=\u001b[39m path\n\u001b[1;32m--> 285\u001b[0m meta, resp_body \u001b[38;5;241m=\u001b[39m \u001b[38;5;28;43mself\u001b[39;49m\u001b[38;5;241;43m.\u001b[39;49m\u001b[43mtransport\u001b[49m\u001b[38;5;241;43m.\u001b[39;49m\u001b[43mperform_request\u001b[49m\u001b[43m(\u001b[49m\n\u001b[0;32m    286\u001b[0m \u001b[43m    \u001b[49m\u001b[43mmethod\u001b[49m\u001b[43m,\u001b[49m\n\u001b[0;32m    287\u001b[0m \u001b[43m    \u001b[49m\u001b[43mtarget\u001b[49m\u001b[43m,\u001b[49m\n\u001b[0;32m    288\u001b[0m \u001b[43m    \u001b[49m\u001b[43mheaders\u001b[49m\u001b[38;5;241;43m=\u001b[39;49m\u001b[43mrequest_headers\u001b[49m\u001b[43m,\u001b[49m\n\u001b[0;32m    289\u001b[0m \u001b[43m    \u001b[49m\u001b[43mbody\u001b[49m\u001b[38;5;241;43m=\u001b[39;49m\u001b[43mbody\u001b[49m\u001b[43m,\u001b[49m\n\u001b[0;32m    290\u001b[0m \u001b[43m    \u001b[49m\u001b[43mrequest_timeout\u001b[49m\u001b[38;5;241;43m=\u001b[39;49m\u001b[38;5;28;43mself\u001b[39;49m\u001b[38;5;241;43m.\u001b[39;49m\u001b[43m_request_timeout\u001b[49m\u001b[43m,\u001b[49m\n\u001b[0;32m    291\u001b[0m \u001b[43m    \u001b[49m\u001b[43mmax_retries\u001b[49m\u001b[38;5;241;43m=\u001b[39;49m\u001b[38;5;28;43mself\u001b[39;49m\u001b[38;5;241;43m.\u001b[39;49m\u001b[43m_max_retries\u001b[49m\u001b[43m,\u001b[49m\n\u001b[0;32m    292\u001b[0m \u001b[43m    \u001b[49m\u001b[43mretry_on_status\u001b[49m\u001b[38;5;241;43m=\u001b[39;49m\u001b[38;5;28;43mself\u001b[39;49m\u001b[38;5;241;43m.\u001b[39;49m\u001b[43m_retry_on_status\u001b[49m\u001b[43m,\u001b[49m\n\u001b[0;32m    293\u001b[0m \u001b[43m    \u001b[49m\u001b[43mretry_on_timeout\u001b[49m\u001b[38;5;241;43m=\u001b[39;49m\u001b[38;5;28;43mself\u001b[39;49m\u001b[38;5;241;43m.\u001b[39;49m\u001b[43m_retry_on_timeout\u001b[49m\u001b[43m,\u001b[49m\n\u001b[0;32m    294\u001b[0m \u001b[43m    \u001b[49m\u001b[43mclient_meta\u001b[49m\u001b[38;5;241;43m=\u001b[39;49m\u001b[38;5;28;43mself\u001b[39;49m\u001b[38;5;241;43m.\u001b[39;49m\u001b[43m_client_meta\u001b[49m\u001b[43m,\u001b[49m\n\u001b[0;32m    295\u001b[0m \u001b[43m\u001b[49m\u001b[43m)\u001b[49m\n\u001b[0;32m    297\u001b[0m \u001b[38;5;66;03m# HEAD with a 404 is returned as a normal response\u001b[39;00m\n\u001b[0;32m    298\u001b[0m \u001b[38;5;66;03m# since this is used as an 'exists' functionality.\u001b[39;00m\n\u001b[0;32m    299\u001b[0m \u001b[38;5;28;01mif\u001b[39;00m \u001b[38;5;129;01mnot\u001b[39;00m (method \u001b[38;5;241m==\u001b[39m \u001b[38;5;124m\"\u001b[39m\u001b[38;5;124mHEAD\u001b[39m\u001b[38;5;124m\"\u001b[39m \u001b[38;5;129;01mand\u001b[39;00m meta\u001b[38;5;241m.\u001b[39mstatus \u001b[38;5;241m==\u001b[39m \u001b[38;5;241m404\u001b[39m) \u001b[38;5;129;01mand\u001b[39;00m (\n\u001b[0;32m    300\u001b[0m     \u001b[38;5;129;01mnot\u001b[39;00m \u001b[38;5;241m200\u001b[39m \u001b[38;5;241m<\u001b[39m\u001b[38;5;241m=\u001b[39m meta\u001b[38;5;241m.\u001b[39mstatus \u001b[38;5;241m<\u001b[39m \u001b[38;5;241m299\u001b[39m\n\u001b[0;32m    301\u001b[0m     \u001b[38;5;129;01mand\u001b[39;00m (\n\u001b[1;32m   (...)\u001b[0m\n\u001b[0;32m    305\u001b[0m     )\n\u001b[0;32m    306\u001b[0m ):\n",
      "File \u001b[1;32md:\\TDTU\\DuAnCNTT\\docker-elasticsearch\\.venv\\Lib\\site-packages\\elastic_transport\\_transport.py:328\u001b[0m, in \u001b[0;36mTransport.perform_request\u001b[1;34m(self, method, target, body, headers, max_retries, retry_on_status, retry_on_timeout, request_timeout, client_meta)\u001b[0m\n\u001b[0;32m    326\u001b[0m start_time \u001b[38;5;241m=\u001b[39m time\u001b[38;5;241m.\u001b[39mtime()\n\u001b[0;32m    327\u001b[0m \u001b[38;5;28;01mtry\u001b[39;00m:\n\u001b[1;32m--> 328\u001b[0m     meta, raw_data \u001b[38;5;241m=\u001b[39m \u001b[43mnode\u001b[49m\u001b[38;5;241;43m.\u001b[39;49m\u001b[43mperform_request\u001b[49m\u001b[43m(\u001b[49m\n\u001b[0;32m    329\u001b[0m \u001b[43m        \u001b[49m\u001b[43mmethod\u001b[49m\u001b[43m,\u001b[49m\n\u001b[0;32m    330\u001b[0m \u001b[43m        \u001b[49m\u001b[43mtarget\u001b[49m\u001b[43m,\u001b[49m\n\u001b[0;32m    331\u001b[0m \u001b[43m        \u001b[49m\u001b[43mbody\u001b[49m\u001b[38;5;241;43m=\u001b[39;49m\u001b[43mrequest_body\u001b[49m\u001b[43m,\u001b[49m\n\u001b[0;32m    332\u001b[0m \u001b[43m        \u001b[49m\u001b[43mheaders\u001b[49m\u001b[38;5;241;43m=\u001b[39;49m\u001b[43mrequest_headers\u001b[49m\u001b[43m,\u001b[49m\n\u001b[0;32m    333\u001b[0m \u001b[43m        \u001b[49m\u001b[43mrequest_timeout\u001b[49m\u001b[38;5;241;43m=\u001b[39;49m\u001b[43mrequest_timeout\u001b[49m\u001b[43m,\u001b[49m\n\u001b[0;32m    334\u001b[0m \u001b[43m    \u001b[49m\u001b[43m)\u001b[49m\n\u001b[0;32m    335\u001b[0m     _logger\u001b[38;5;241m.\u001b[39minfo(\n\u001b[0;32m    336\u001b[0m         \u001b[38;5;124m\"\u001b[39m\u001b[38;5;132;01m%s\u001b[39;00m\u001b[38;5;124m \u001b[39m\u001b[38;5;132;01m%s\u001b[39;00m\u001b[38;5;132;01m%s\u001b[39;00m\u001b[38;5;124m [status:\u001b[39m\u001b[38;5;132;01m%s\u001b[39;00m\u001b[38;5;124m duration:\u001b[39m\u001b[38;5;132;01m%.3f\u001b[39;00m\u001b[38;5;124ms]\u001b[39m\u001b[38;5;124m\"\u001b[39m\n\u001b[0;32m    337\u001b[0m         \u001b[38;5;241m%\u001b[39m (\n\u001b[1;32m   (...)\u001b[0m\n\u001b[0;32m    343\u001b[0m         )\n\u001b[0;32m    344\u001b[0m     )\n\u001b[0;32m    346\u001b[0m     \u001b[38;5;28;01mif\u001b[39;00m method \u001b[38;5;241m!=\u001b[39m \u001b[38;5;124m\"\u001b[39m\u001b[38;5;124mHEAD\u001b[39m\u001b[38;5;124m\"\u001b[39m:\n",
      "File \u001b[1;32md:\\TDTU\\DuAnCNTT\\docker-elasticsearch\\.venv\\Lib\\site-packages\\elastic_transport\\_node\\_http_urllib3.py:167\u001b[0m, in \u001b[0;36mUrllib3HttpNode.perform_request\u001b[1;34m(self, method, target, body, headers, request_timeout)\u001b[0m\n\u001b[0;32m    164\u001b[0m \u001b[38;5;28;01melse\u001b[39;00m:\n\u001b[0;32m    165\u001b[0m     body_to_send \u001b[38;5;241m=\u001b[39m \u001b[38;5;28;01mNone\u001b[39;00m\n\u001b[1;32m--> 167\u001b[0m response \u001b[38;5;241m=\u001b[39m \u001b[38;5;28;43mself\u001b[39;49m\u001b[38;5;241;43m.\u001b[39;49m\u001b[43mpool\u001b[49m\u001b[38;5;241;43m.\u001b[39;49m\u001b[43murlopen\u001b[49m\u001b[43m(\u001b[49m\n\u001b[0;32m    168\u001b[0m \u001b[43m    \u001b[49m\u001b[43mmethod\u001b[49m\u001b[43m,\u001b[49m\n\u001b[0;32m    169\u001b[0m \u001b[43m    \u001b[49m\u001b[43mtarget\u001b[49m\u001b[43m,\u001b[49m\n\u001b[0;32m    170\u001b[0m \u001b[43m    \u001b[49m\u001b[43mbody\u001b[49m\u001b[38;5;241;43m=\u001b[39;49m\u001b[43mbody_to_send\u001b[49m\u001b[43m,\u001b[49m\n\u001b[0;32m    171\u001b[0m \u001b[43m    \u001b[49m\u001b[43mretries\u001b[49m\u001b[38;5;241;43m=\u001b[39;49m\u001b[43mRetry\u001b[49m\u001b[43m(\u001b[49m\u001b[38;5;28;43;01mFalse\u001b[39;49;00m\u001b[43m)\u001b[49m\u001b[43m,\u001b[49m\n\u001b[0;32m    172\u001b[0m \u001b[43m    \u001b[49m\u001b[43mheaders\u001b[49m\u001b[38;5;241;43m=\u001b[39;49m\u001b[43mrequest_headers\u001b[49m\u001b[43m,\u001b[49m\n\u001b[0;32m    173\u001b[0m \u001b[43m    \u001b[49m\u001b[38;5;241;43m*\u001b[39;49m\u001b[38;5;241;43m*\u001b[39;49m\u001b[43mkw\u001b[49m\u001b[43m,\u001b[49m\u001b[43m  \u001b[49m\u001b[38;5;66;43;03m# type: ignore[arg-type]\u001b[39;49;00m\n\u001b[0;32m    174\u001b[0m \u001b[43m\u001b[49m\u001b[43m)\u001b[49m\n\u001b[0;32m    175\u001b[0m response_headers \u001b[38;5;241m=\u001b[39m HttpHeaders(response\u001b[38;5;241m.\u001b[39mheaders)\n\u001b[0;32m    176\u001b[0m data \u001b[38;5;241m=\u001b[39m response\u001b[38;5;241m.\u001b[39mdata\n",
      "File \u001b[1;32md:\\TDTU\\DuAnCNTT\\docker-elasticsearch\\.venv\\Lib\\site-packages\\urllib3\\connectionpool.py:790\u001b[0m, in \u001b[0;36mHTTPConnectionPool.urlopen\u001b[1;34m(self, method, url, body, headers, retries, redirect, assert_same_host, timeout, pool_timeout, release_conn, chunked, body_pos, preload_content, decode_content, **response_kw)\u001b[0m\n\u001b[0;32m    787\u001b[0m response_conn \u001b[38;5;241m=\u001b[39m conn \u001b[38;5;28;01mif\u001b[39;00m \u001b[38;5;129;01mnot\u001b[39;00m release_conn \u001b[38;5;28;01melse\u001b[39;00m \u001b[38;5;28;01mNone\u001b[39;00m\n\u001b[0;32m    789\u001b[0m \u001b[38;5;66;03m# Make the request on the HTTPConnection object\u001b[39;00m\n\u001b[1;32m--> 790\u001b[0m response \u001b[38;5;241m=\u001b[39m \u001b[38;5;28;43mself\u001b[39;49m\u001b[38;5;241;43m.\u001b[39;49m\u001b[43m_make_request\u001b[49m\u001b[43m(\u001b[49m\n\u001b[0;32m    791\u001b[0m \u001b[43m    \u001b[49m\u001b[43mconn\u001b[49m\u001b[43m,\u001b[49m\n\u001b[0;32m    792\u001b[0m \u001b[43m    \u001b[49m\u001b[43mmethod\u001b[49m\u001b[43m,\u001b[49m\n\u001b[0;32m    793\u001b[0m \u001b[43m    \u001b[49m\u001b[43murl\u001b[49m\u001b[43m,\u001b[49m\n\u001b[0;32m    794\u001b[0m \u001b[43m    \u001b[49m\u001b[43mtimeout\u001b[49m\u001b[38;5;241;43m=\u001b[39;49m\u001b[43mtimeout_obj\u001b[49m\u001b[43m,\u001b[49m\n\u001b[0;32m    795\u001b[0m \u001b[43m    \u001b[49m\u001b[43mbody\u001b[49m\u001b[38;5;241;43m=\u001b[39;49m\u001b[43mbody\u001b[49m\u001b[43m,\u001b[49m\n\u001b[0;32m    796\u001b[0m \u001b[43m    \u001b[49m\u001b[43mheaders\u001b[49m\u001b[38;5;241;43m=\u001b[39;49m\u001b[43mheaders\u001b[49m\u001b[43m,\u001b[49m\n\u001b[0;32m    797\u001b[0m \u001b[43m    \u001b[49m\u001b[43mchunked\u001b[49m\u001b[38;5;241;43m=\u001b[39;49m\u001b[43mchunked\u001b[49m\u001b[43m,\u001b[49m\n\u001b[0;32m    798\u001b[0m \u001b[43m    \u001b[49m\u001b[43mretries\u001b[49m\u001b[38;5;241;43m=\u001b[39;49m\u001b[43mretries\u001b[49m\u001b[43m,\u001b[49m\n\u001b[0;32m    799\u001b[0m \u001b[43m    \u001b[49m\u001b[43mresponse_conn\u001b[49m\u001b[38;5;241;43m=\u001b[39;49m\u001b[43mresponse_conn\u001b[49m\u001b[43m,\u001b[49m\n\u001b[0;32m    800\u001b[0m \u001b[43m    \u001b[49m\u001b[43mpreload_content\u001b[49m\u001b[38;5;241;43m=\u001b[39;49m\u001b[43mpreload_content\u001b[49m\u001b[43m,\u001b[49m\n\u001b[0;32m    801\u001b[0m \u001b[43m    \u001b[49m\u001b[43mdecode_content\u001b[49m\u001b[38;5;241;43m=\u001b[39;49m\u001b[43mdecode_content\u001b[49m\u001b[43m,\u001b[49m\n\u001b[0;32m    802\u001b[0m \u001b[43m    \u001b[49m\u001b[38;5;241;43m*\u001b[39;49m\u001b[38;5;241;43m*\u001b[39;49m\u001b[43mresponse_kw\u001b[49m\u001b[43m,\u001b[49m\n\u001b[0;32m    803\u001b[0m \u001b[43m\u001b[49m\u001b[43m)\u001b[49m\n\u001b[0;32m    805\u001b[0m \u001b[38;5;66;03m# Everything went great!\u001b[39;00m\n\u001b[0;32m    806\u001b[0m clean_exit \u001b[38;5;241m=\u001b[39m \u001b[38;5;28;01mTrue\u001b[39;00m\n",
      "File \u001b[1;32md:\\TDTU\\DuAnCNTT\\docker-elasticsearch\\.venv\\Lib\\site-packages\\urllib3\\connectionpool.py:536\u001b[0m, in \u001b[0;36mHTTPConnectionPool._make_request\u001b[1;34m(self, conn, method, url, body, headers, retries, timeout, chunked, response_conn, preload_content, decode_content, enforce_content_length)\u001b[0m\n\u001b[0;32m    534\u001b[0m \u001b[38;5;66;03m# Receive the response from the server\u001b[39;00m\n\u001b[0;32m    535\u001b[0m \u001b[38;5;28;01mtry\u001b[39;00m:\n\u001b[1;32m--> 536\u001b[0m     response \u001b[38;5;241m=\u001b[39m \u001b[43mconn\u001b[49m\u001b[38;5;241;43m.\u001b[39;49m\u001b[43mgetresponse\u001b[49m\u001b[43m(\u001b[49m\u001b[43m)\u001b[49m\n\u001b[0;32m    537\u001b[0m \u001b[38;5;28;01mexcept\u001b[39;00m (BaseSSLError, \u001b[38;5;167;01mOSError\u001b[39;00m) \u001b[38;5;28;01mas\u001b[39;00m e:\n\u001b[0;32m    538\u001b[0m     \u001b[38;5;28mself\u001b[39m\u001b[38;5;241m.\u001b[39m_raise_timeout(err\u001b[38;5;241m=\u001b[39me, url\u001b[38;5;241m=\u001b[39murl, timeout_value\u001b[38;5;241m=\u001b[39mread_timeout)\n",
      "File \u001b[1;32md:\\TDTU\\DuAnCNTT\\docker-elasticsearch\\.venv\\Lib\\site-packages\\urllib3\\connection.py:461\u001b[0m, in \u001b[0;36mHTTPConnection.getresponse\u001b[1;34m(self)\u001b[0m\n\u001b[0;32m    458\u001b[0m \u001b[38;5;28;01mfrom\u001b[39;00m \u001b[38;5;21;01m.\u001b[39;00m\u001b[38;5;21;01mresponse\u001b[39;00m \u001b[38;5;28;01mimport\u001b[39;00m HTTPResponse\n\u001b[0;32m    460\u001b[0m \u001b[38;5;66;03m# Get the response from http.client.HTTPConnection\u001b[39;00m\n\u001b[1;32m--> 461\u001b[0m httplib_response \u001b[38;5;241m=\u001b[39m \u001b[38;5;28;43msuper\u001b[39;49m\u001b[43m(\u001b[49m\u001b[43m)\u001b[49m\u001b[38;5;241;43m.\u001b[39;49m\u001b[43mgetresponse\u001b[49m\u001b[43m(\u001b[49m\u001b[43m)\u001b[49m\n\u001b[0;32m    463\u001b[0m \u001b[38;5;28;01mtry\u001b[39;00m:\n\u001b[0;32m    464\u001b[0m     assert_header_parsing(httplib_response\u001b[38;5;241m.\u001b[39mmsg)\n",
      "File \u001b[1;32mC:\\Program Files\\Python311\\Lib\\http\\client.py:1374\u001b[0m, in \u001b[0;36mHTTPConnection.getresponse\u001b[1;34m(self)\u001b[0m\n\u001b[0;32m   1372\u001b[0m \u001b[38;5;28;01mtry\u001b[39;00m:\n\u001b[0;32m   1373\u001b[0m     \u001b[38;5;28;01mtry\u001b[39;00m:\n\u001b[1;32m-> 1374\u001b[0m         \u001b[43mresponse\u001b[49m\u001b[38;5;241;43m.\u001b[39;49m\u001b[43mbegin\u001b[49m\u001b[43m(\u001b[49m\u001b[43m)\u001b[49m\n\u001b[0;32m   1375\u001b[0m     \u001b[38;5;28;01mexcept\u001b[39;00m \u001b[38;5;167;01mConnectionError\u001b[39;00m:\n\u001b[0;32m   1376\u001b[0m         \u001b[38;5;28mself\u001b[39m\u001b[38;5;241m.\u001b[39mclose()\n",
      "File \u001b[1;32mC:\\Program Files\\Python311\\Lib\\http\\client.py:318\u001b[0m, in \u001b[0;36mHTTPResponse.begin\u001b[1;34m(self)\u001b[0m\n\u001b[0;32m    316\u001b[0m \u001b[38;5;66;03m# read until we get a non-100 response\u001b[39;00m\n\u001b[0;32m    317\u001b[0m \u001b[38;5;28;01mwhile\u001b[39;00m \u001b[38;5;28;01mTrue\u001b[39;00m:\n\u001b[1;32m--> 318\u001b[0m     version, status, reason \u001b[38;5;241m=\u001b[39m \u001b[38;5;28;43mself\u001b[39;49m\u001b[38;5;241;43m.\u001b[39;49m\u001b[43m_read_status\u001b[49m\u001b[43m(\u001b[49m\u001b[43m)\u001b[49m\n\u001b[0;32m    319\u001b[0m     \u001b[38;5;28;01mif\u001b[39;00m status \u001b[38;5;241m!=\u001b[39m CONTINUE:\n\u001b[0;32m    320\u001b[0m         \u001b[38;5;28;01mbreak\u001b[39;00m\n",
      "File \u001b[1;32mC:\\Program Files\\Python311\\Lib\\http\\client.py:279\u001b[0m, in \u001b[0;36mHTTPResponse._read_status\u001b[1;34m(self)\u001b[0m\n\u001b[0;32m    278\u001b[0m \u001b[38;5;28;01mdef\u001b[39;00m \u001b[38;5;21m_read_status\u001b[39m(\u001b[38;5;28mself\u001b[39m):\n\u001b[1;32m--> 279\u001b[0m     line \u001b[38;5;241m=\u001b[39m \u001b[38;5;28mstr\u001b[39m(\u001b[38;5;28mself\u001b[39m\u001b[38;5;241m.\u001b[39mfp\u001b[38;5;241m.\u001b[39mreadline(_MAXLINE \u001b[38;5;241m+\u001b[39m \u001b[38;5;241m1\u001b[39m), \u001b[38;5;124m\"\u001b[39m\u001b[38;5;124miso-8859-1\u001b[39m\u001b[38;5;124m\"\u001b[39m)\n\u001b[0;32m    280\u001b[0m     \u001b[38;5;28;01mif\u001b[39;00m \u001b[38;5;28mlen\u001b[39m(line) \u001b[38;5;241m>\u001b[39m _MAXLINE:\n\u001b[0;32m    281\u001b[0m         \u001b[38;5;28;01mraise\u001b[39;00m LineTooLong(\u001b[38;5;124m\"\u001b[39m\u001b[38;5;124mstatus line\u001b[39m\u001b[38;5;124m\"\u001b[39m)\n",
      "File \u001b[1;32mC:\\Program Files\\Python311\\Lib\\socket.py:706\u001b[0m, in \u001b[0;36mSocketIO.readinto\u001b[1;34m(self, b)\u001b[0m\n\u001b[0;32m    704\u001b[0m \u001b[38;5;28;01mwhile\u001b[39;00m \u001b[38;5;28;01mTrue\u001b[39;00m:\n\u001b[0;32m    705\u001b[0m     \u001b[38;5;28;01mtry\u001b[39;00m:\n\u001b[1;32m--> 706\u001b[0m         \u001b[38;5;28;01mreturn\u001b[39;00m \u001b[38;5;28;43mself\u001b[39;49m\u001b[38;5;241;43m.\u001b[39;49m\u001b[43m_sock\u001b[49m\u001b[38;5;241;43m.\u001b[39;49m\u001b[43mrecv_into\u001b[49m\u001b[43m(\u001b[49m\u001b[43mb\u001b[49m\u001b[43m)\u001b[49m\n\u001b[0;32m    707\u001b[0m     \u001b[38;5;28;01mexcept\u001b[39;00m timeout:\n\u001b[0;32m    708\u001b[0m         \u001b[38;5;28mself\u001b[39m\u001b[38;5;241m.\u001b[39m_timeout_occurred \u001b[38;5;241m=\u001b[39m \u001b[38;5;28;01mTrue\u001b[39;00m\n",
      "File \u001b[1;32mC:\\Program Files\\Python311\\Lib\\ssl.py:1278\u001b[0m, in \u001b[0;36mSSLSocket.recv_into\u001b[1;34m(self, buffer, nbytes, flags)\u001b[0m\n\u001b[0;32m   1274\u001b[0m     \u001b[38;5;28;01mif\u001b[39;00m flags \u001b[38;5;241m!=\u001b[39m \u001b[38;5;241m0\u001b[39m:\n\u001b[0;32m   1275\u001b[0m         \u001b[38;5;28;01mraise\u001b[39;00m \u001b[38;5;167;01mValueError\u001b[39;00m(\n\u001b[0;32m   1276\u001b[0m           \u001b[38;5;124m\"\u001b[39m\u001b[38;5;124mnon-zero flags not allowed in calls to recv_into() on \u001b[39m\u001b[38;5;132;01m%s\u001b[39;00m\u001b[38;5;124m\"\u001b[39m \u001b[38;5;241m%\u001b[39m\n\u001b[0;32m   1277\u001b[0m           \u001b[38;5;28mself\u001b[39m\u001b[38;5;241m.\u001b[39m\u001b[38;5;18m__class__\u001b[39m)\n\u001b[1;32m-> 1278\u001b[0m     \u001b[38;5;28;01mreturn\u001b[39;00m \u001b[38;5;28;43mself\u001b[39;49m\u001b[38;5;241;43m.\u001b[39;49m\u001b[43mread\u001b[49m\u001b[43m(\u001b[49m\u001b[43mnbytes\u001b[49m\u001b[43m,\u001b[49m\u001b[43m \u001b[49m\u001b[43mbuffer\u001b[49m\u001b[43m)\u001b[49m\n\u001b[0;32m   1279\u001b[0m \u001b[38;5;28;01melse\u001b[39;00m:\n\u001b[0;32m   1280\u001b[0m     \u001b[38;5;28;01mreturn\u001b[39;00m \u001b[38;5;28msuper\u001b[39m()\u001b[38;5;241m.\u001b[39mrecv_into(buffer, nbytes, flags)\n",
      "File \u001b[1;32mC:\\Program Files\\Python311\\Lib\\ssl.py:1134\u001b[0m, in \u001b[0;36mSSLSocket.read\u001b[1;34m(self, len, buffer)\u001b[0m\n\u001b[0;32m   1132\u001b[0m \u001b[38;5;28;01mtry\u001b[39;00m:\n\u001b[0;32m   1133\u001b[0m     \u001b[38;5;28;01mif\u001b[39;00m buffer \u001b[38;5;129;01mis\u001b[39;00m \u001b[38;5;129;01mnot\u001b[39;00m \u001b[38;5;28;01mNone\u001b[39;00m:\n\u001b[1;32m-> 1134\u001b[0m         \u001b[38;5;28;01mreturn\u001b[39;00m \u001b[38;5;28;43mself\u001b[39;49m\u001b[38;5;241;43m.\u001b[39;49m\u001b[43m_sslobj\u001b[49m\u001b[38;5;241;43m.\u001b[39;49m\u001b[43mread\u001b[49m\u001b[43m(\u001b[49m\u001b[38;5;28;43mlen\u001b[39;49m\u001b[43m,\u001b[49m\u001b[43m \u001b[49m\u001b[43mbuffer\u001b[49m\u001b[43m)\u001b[49m\n\u001b[0;32m   1135\u001b[0m     \u001b[38;5;28;01melse\u001b[39;00m:\n\u001b[0;32m   1136\u001b[0m         \u001b[38;5;28;01mreturn\u001b[39;00m \u001b[38;5;28mself\u001b[39m\u001b[38;5;241m.\u001b[39m_sslobj\u001b[38;5;241m.\u001b[39mread(\u001b[38;5;28mlen\u001b[39m)\n",
      "\u001b[1;31mKeyboardInterrupt\u001b[0m: "
     ]
    }
   ],
   "source": [
    "# indexed documents\n",
    "for i, row in df.iterrows():\n",
    "    doc = {\n",
    "        \"id\": row[\"id\"],\n",
    "        \"title\": row[\"title\"],\n",
    "        \"desc\": row[\"desc\"],\n",
    "        \"authors\": row[\"authors\"],\n",
    "        \"categories\": row[\"categories\"],\n",
    "        \"averagerating\": row[\"averagerating\"],\n",
    "        \"maturityrating\": row[\"maturityrating\"],\n",
    "        \"publisheddate\": row[\"publisheddate\"],\n",
    "        \"pagecount\": row[\"pagecount\"]\n",
    "    }\n",
    "            \n",
    "    es.index(index=\"books\", id=i, document=doc)"
   ]
  },
  {
   "cell_type": "code",
   "execution_count": 12,
   "metadata": {},
   "outputs": [
    {
     "data": {
      "text/plain": [
       "(22332, [])"
      ]
     },
     "execution_count": 12,
     "metadata": {},
     "output_type": "execute_result"
    }
   ],
   "source": [
    "# another way to store data to index\n",
    "from elasticsearch.helpers import bulk\n",
    "\n",
    "bulk_data = []\n",
    "for i,row in df.iterrows():\n",
    "    bulk_data.append(\n",
    "        {\n",
    "            \"_index\": \"books\",\n",
    "            \"_id\": row[\"id\"],\n",
    "            \"_source\": {        \n",
    "                \"id\": row[\"id\"],\n",
    "        \"title\": row[\"title\"],\n",
    "        \"desc\": row[\"desc\"],\n",
    "        \"desc_vector\": row[\"vector\"],\n",
    "        \n",
    "        \"authors\": row[\"authors\"],\n",
    "        \"categories\": row[\"categories\"],\n",
    "        \"averagerating\": row[\"averagerating\"],\n",
    "        \"maturityrating\": row[\"maturityrating\"],\n",
    "        \"publisheddate\": row[\"publisheddate\"],\n",
    "        \"pagecount\": row[\"pagecount\"],\n",
    "            }\n",
    "        }\n",
    "    )\n",
    "bulk(es, bulk_data)"
   ]
  },
  {
   "cell_type": "code",
   "execution_count": 12,
   "metadata": {},
   "outputs": [],
   "source": [
    "# df_vn.to_csv('check_vn_book.csv', index = False, encoding=\"utf-8\")\n",
    "\n",
    "\n",
    "\n"
   ]
  },
  {
   "cell_type": "code",
   "execution_count": 13,
   "metadata": {},
   "outputs": [
    {
     "data": {
      "text/plain": [
       "(2321, [])"
      ]
     },
     "execution_count": 13,
     "metadata": {},
     "output_type": "execute_result"
    }
   ],
   "source": [
    "# another way to store data to index\n",
    "from elasticsearch.helpers import bulk\n",
    "\n",
    "bulk_data = []\n",
    "for i,row in df_vn.iterrows():\n",
    "    bulk_data.append(\n",
    "        {\n",
    "            \"_index\": \"books\",\n",
    "            \"_id\": row[\"id\"],\n",
    "            \"_source\": {        \n",
    "                \"id\": row[\"id\"],\n",
    "        \"title\": row[\"title\"],\n",
    "        \"desc\": row[\"desc\"],\n",
    "        \"desc_vector\": row[\"vector\"],\n",
    "        \"authors\": row[\"authors\"],\n",
    "        \"categories\": row[\"categories\"],\n",
    "        \"averagerating\": row[\"averagerating\"],\n",
    "        \"maturityrating\": row[\"maturityrating\"],\n",
    "        \"publisheddate\": row[\"publisheddate\"],\n",
    "        \"pagecount\": row[\"pagecount\"],\n",
    "            }\n",
    "        }\n",
    "    )\n",
    "bulk(es, bulk_data)"
   ]
  },
  {
   "cell_type": "code",
   "execution_count": 8,
   "metadata": {},
   "outputs": [
    {
     "data": {
      "text/plain": [
       "(2321, [])"
      ]
     },
     "execution_count": 8,
     "metadata": {},
     "output_type": "execute_result"
    }
   ],
   "source": [
    "#test autocomplete\n",
    "# another way to store data to index\n",
    "from elasticsearch.helpers import bulk\n",
    "\n",
    "bulk_data = []\n",
    "for i,row in df_vn.iterrows():\n",
    "    bulk_data.append(\n",
    "        {\n",
    "            \"_index\": \"books_test\",\n",
    "            \"_id\": row[\"id\"],\n",
    "            \"_source\": {        \n",
    "                \"id\": row[\"id\"],\n",
    "        \"title\": row[\"title\"],\n",
    "        \"desc\": row[\"desc\"],\n",
    "        \"desc_vector\": row[\"vector\"],\n",
    "        \"authors\": row[\"authors\"],\n",
    "        \"categories\": row[\"categories\"],\n",
    "        \"averagerating\": row[\"averagerating\"],\n",
    "        \"maturityrating\": row[\"maturityrating\"],\n",
    "        \"publisheddate\": row[\"publisheddate\"],\n",
    "        \"pagecount\": row[\"pagecount\"],\n",
    "            }\n",
    "        }\n",
    "    )\n",
    "bulk(es, bulk_data)"
   ]
  },
  {
   "cell_type": "code",
   "execution_count": 22,
   "metadata": {},
   "outputs": [
    {
     "data": {
      "text/plain": [
       "(24653, [])"
      ]
     },
     "execution_count": 22,
     "metadata": {},
     "output_type": "execute_result"
    }
   ],
   "source": [
    "# another way to store data to index\n",
    "from elasticsearch.helpers import bulk\n",
    "\n",
    "bulk_data = []\n",
    "for i,row in result.iterrows():\n",
    "    bulk_data.append(\n",
    "        {\n",
    "            \"_index\": \"books\",\n",
    "            \"_id\": row[\"id\"],\n",
    "            \"_source\": {        \n",
    "                \"id\": row[\"id\"],\n",
    "        \"title\": row[\"title\"],\n",
    "        \"desc\": row[\"desc\"],\n",
    "        \"desc_vector\": row[\"vector\"],\n",
    "        \n",
    "        \"authors\": row[\"authors\"],\n",
    "        \"categories\": row[\"categories\"],\n",
    "        \"averagerating\": row[\"averagerating\"],\n",
    "        \"maturityrating\": row[\"maturityrating\"],\n",
    "        \"publisheddate\": row[\"publisheddate\"],\n",
    "        \"pagecount\": row[\"pagecount\"],\n",
    "            }\n",
    "        }\n",
    "    )\n",
    "bulk(es, bulk_data)\n",
    "\n"
   ]
  },
  {
   "cell_type": "code",
   "execution_count": 23,
   "metadata": {},
   "outputs": [
    {
     "data": {
      "text/plain": [
       "ListApiResponse([{'epoch': '1708595720', 'timestamp': '09:55:20', 'count': '24617'}])"
      ]
     },
     "execution_count": 23,
     "metadata": {},
     "output_type": "execute_result"
    }
   ],
   "source": [
    "# ounting the number of items in the index:\n",
    "es.indices.refresh(index=\"books\")\n",
    "es.cat.count(index=\"books\", format=\"json\")"
   ]
  },
  {
   "cell_type": "code",
   "execution_count": 16,
   "metadata": {},
   "outputs": [
    {
     "name": "stdout",
     "output_type": "stream",
     "text": [
      "[-0.06277179718017578, 0.05495882406830788, 0.052164819091558456, 0.08579002320766449, -0.08274894207715988, -0.07457292824983597, 0.06855469942092896, 0.01839641109108925, -0.08201132714748383, -0.03738480061292648, 0.012124930508434772, 0.0035183443687856197, -0.004134284798055887, -0.043784432113170624, 0.021807366982102394, -0.005102717317640781, 0.019546568393707275, -0.04234876111149788, -0.11035963147878647, 0.005424485541880131, -0.05573485791683197, 0.028052441775798798, -0.023158691823482513, 0.02848139964044094, -0.05370962619781494, -0.052601657807826996, 0.03393928334116936, 0.0453886054456234, 0.023718446493148804, -0.0731208473443985, 0.05477773770689964, 0.017047306522727013, 0.08136031031608582, -0.002862680936232209, 0.011958093382418156, 0.07355853170156479, -0.09423752874135971, -0.08136200904846191, 0.04001541808247566, 0.0006921236636117101, -0.0133932800963521, -0.05453804135322571, 0.005151398945599794, -0.026139816269278526, 0.03680703043937683, -0.033959660679101944, 0.021093206480145454, 0.05594892054796219, 0.05778137221932411, -0.0054183765314519405, -0.0684131607413292, -0.0902370810508728, -0.04286675155162811, 0.02365262247622013, 0.12149352580308914, 0.032392825931310654, -0.02265935204923153, -0.023281700909137726, 0.048865947872400284, -0.059351589530706406, -0.03406599536538124, 0.03596259653568268, -0.08115783333778381, -0.021979480981826782, 0.013187912292778492, -0.04585545137524605, -0.07041989266872406, -0.05260327458381653, -0.048029206693172455, -0.07454618066549301, -0.028731869533658028, 0.012831823900341988, -0.042921699583530426, 0.005366350524127483, -0.03909763693809509, 0.015919286757707596, 0.020243586972355843, 0.005266684573143721, 0.009581371210515499, -0.004767661914229393, 0.04808768630027771, -0.07309657335281372, -0.05034449324011803, 0.009653131477534771, 0.013496611267328262, 0.0004302383749745786, 0.019725259393453598, 0.06249547377228737, -0.018227189779281616, 0.031097177416086197, -0.0888538733124733, 0.04813242703676224, 0.026074284687638283, -0.011494051665067673, -0.09936176240444183, -0.027338214218616486, 0.07621531188488007, -0.0020966134034097195, -0.12358875572681427, 0.2980652451515198, 0.05630635842680931, 0.0784800574183464, 0.011043614707887173, 0.0524001345038414, -0.0011880279053002596, 0.0009656907641328871, -0.054327286779880524, 0.026764746755361557, -0.012194260023534298, 0.010717073455452919, -3.708971053129062e-05, -0.03556564450263977, -0.03208545967936516, 0.016168756410479546, 0.08674972504377365, 0.01813940890133381, -0.01101748738437891, 0.049740321934223175, 0.022581033408641815, -2.2351243387674913e-05, 0.014939061366021633, -0.011176180094480515, 0.005659339018166065, -0.00411482946947217, 0.003182648913934827, 0.023864949122071266, 0.018051056191325188, -5.8504746896348805e-33, 0.05610698461532593, -0.03449847921729088, 0.033111777156591415, 0.1677228957414627, -0.031038111075758934, -0.0048354193568229675, -0.06106499955058098, -0.06271098554134369, 0.027426529675722122, 0.06364013254642487, 0.04334038123488426, 0.06082940101623535, -0.018160855397582054, 0.04280417039990425, 0.019024165347218513, 0.08797790855169296, -0.039132826030254364, 0.04414266347885132, -0.004940989427268505, 0.05105268582701683, -0.05431913211941719, 0.01117311604321003, 0.02669908106327057, 0.07509662210941315, 0.048690181225538254, -0.04354279860854149, 0.013338654302060604, -0.1026298776268959, 0.052156656980514526, 0.022232403978705406, -0.029741782695055008, -0.04227066785097122, 0.02298458106815815, 0.039574459195137024, 0.009094813838601112, 0.02086471952497959, 0.005092584528028965, -0.06276410818099976, -0.0502176508307457, -0.005224934313446283, -0.05349819362163544, 0.02977343089878559, 0.02175365574657917, -0.02067798189818859, 0.023866185918450356, 0.005806677974760532, -0.0012138212332502007, 0.02266027219593525, 0.003156669670715928, 0.03096041828393936, -0.05296803638339043, 0.018676970154047012, -0.1401534080505371, 0.0414782278239727, -0.010278228670358658, -0.011593222618103027, -0.033458177000284195, -0.05058896169066429, 0.046867888420820236, 0.024715043604373932, 0.03349685296416283, 0.11170763522386551, -0.040348589420318604, -0.0042845094576478004, -0.0807437002658844, -0.056112147867679596, 0.03833863139152527, 0.011508322320878506, 0.06873790174722672, -0.038117289543151855, -0.04598831757903099, -0.016439571976661682, 0.024413004517555237, 0.011722046881914139, 0.008168588392436504, 0.03903685137629509, 0.02618652582168579, 0.01048185769468546, 0.04286026582121849, -0.046381592750549316, 0.006481187883764505, 0.04442335665225983, -0.018837638199329376, 0.007263407111167908, 0.056179556995630264, 0.05347799137234688, -0.021483799442648888, -0.08448569476604462, -0.012813979759812355, -0.03947564959526062, -0.0580265037715435, 0.031333982944488525, 0.045417383313179016, 0.011839082464575768, -0.017906198278069496, 4.586215086962156e-33, 0.13150790333747864, 0.07932807505130768, -0.09495952725410461, -0.02447219006717205, -0.05581623688340187, -0.009145238436758518, -0.03209041804075241, 0.11379321664571762, -0.14441628754138947, 0.00850965641438961, 0.030667012557387352, -0.012414881028234959, 0.07017049938440323, 0.028179870918393135, 0.04082207381725311, 0.01959085464477539, 0.1429504007101059, 0.056870002299547195, -0.04012209549546242, -0.017843911424279213, -0.061384402215480804, 0.0008760549826547503, -0.054906051605939865, -0.007102538365870714, -0.0004941734368912876, -0.01311936043202877, -0.002266912255436182, 0.05856674164533615, -0.09971513599157333, -0.0255324374884367, 0.07856463640928268, 0.020517639815807343, -0.00463339127600193, 0.03030253015458584, 0.016833284869790077, 0.09143762290477753, 0.01676962710916996, -0.07980287075042725, 0.0425102598965168, -0.08439735323190689, -0.023858997970819473, 0.04701947793364525, 0.002414853312075138, 0.10931788384914398, -0.03390542417764664, -0.06402094662189484, -0.037723809480667114, 0.02907474711537361, -0.04244936630129814, 0.015861861407756805, -0.09060656279325485, -0.05576634779572487, 0.022608725354075432, 0.008000350557267666, -0.02246999368071556, 0.02205820195376873, -0.025199145078659058, 0.030339565128087997, 0.010110786184668541, -0.018547357991337776, 0.016989605501294136, 0.07631020247936249, 0.04162056744098663, 0.08752068132162094, -0.012092750519514084, 0.03113512322306633, -0.0321904681622982, 0.01279802992939949, 0.013538790866732597, -0.029752468690276146, 0.03678986057639122, -0.0058460417203605175, -0.01105556357651949, 0.038670334964990616, -0.020741526037454605, -0.011265051551163197, -0.02376757562160492, -0.009984532371163368, -0.023108404129743576, 0.012011399492621422, -0.01064449641853571, 0.05136064812541008, -0.02773401513695717, -0.000211351114558056, 0.0009463237947784364, -0.03158259391784668, 0.05122925713658333, 0.04432860389351845, -0.003773433854803443, -0.04166807234287262, 0.028954582288861275, 0.03306129574775696, -0.01518431305885315, -0.00015769494348205626, -0.04412432760000229, -1.480350064753111e-08, -0.008695951662957668, 0.00013007236702833325, 0.016471121460199356, 0.05922891944646835, 0.045538805425167084, 0.033126894384622574, -0.09335849434137344, -0.039027221500873566, -0.02065614052116871, 0.012607462704181671, 0.06953954696655273, 0.07919185608625412, -0.07191093266010284, -0.004785051569342613, 0.08800480514764786, 0.04758851230144501, -0.05219275876879692, -0.0075255450792610645, -0.05771181359887123, -0.09295843541622162, -0.004501504823565483, 0.0011780292261391878, 0.02444724552333355, -0.06403972208499908, -0.0032275416888296604, -0.027965374290943146, -0.03540757670998573, 0.02503669261932373, -0.009852759540081024, 0.0132523775100708, 0.0011384942336007953, 0.17805425822734833, -0.036146268248558044, -0.00762589368969202, -0.03220127895474434, -0.042293235659599304, 0.004774484317749739, 0.028531799092888832, 0.07472299784421921, -0.014894111081957817, -0.05622067674994469, 0.02723575383424759, -0.011199426837265491, -0.10166790336370468, -0.019529273733496666, 0.027246475219726562, 0.03508102521300316, -0.08160565048456192, -0.0013377252034842968, -0.07635188847780228, -0.039957329630851746, 0.0407818928360939, 0.06012868508696556, 0.0725458636879921, 0.06967513263225555, 0.08909130096435547, 0.015957793220877647, -0.014873544685542583, -0.046741608530282974, -0.013411350548267365, 0.06513474136590958, 0.050905950367450714, 0.051483526825904846, 0.007092173211276531]\n"
     ]
    },
    {
     "name": "stderr",
     "output_type": "stream",
     "text": [
      "C:\\Users\\DELL\\AppData\\Local\\Temp\\ipykernel_19824\\2905709573.py:4: DeprecationWarning: Passing transport options in the API method is deprecated. Use 'Elasticsearch.options()' instead.\n",
      "  res = es.search(\n"
     ]
    },
    {
     "data": {
      "text/plain": [
       "['The Fairy Godmother',\n",
       " 'Getting Rid Of Bradley',\n",
       " 'Suffer the Children',\n",
       " 'Captivating',\n",
       " 'The Trumpeter of Krakow',\n",
       " 'Fianna Fail, Partition and Northern Ireland,1926-1971',\n",
       " 'Strange Attractors',\n",
       " 'Natural Cures \"they\" Don\\'t Want You to Know about',\n",
       " 'King of Thieves',\n",
       " 'Suki']"
      ]
     },
     "execution_count": 16,
     "metadata": {},
     "output_type": "execute_result"
    }
   ],
   "source": [
    "INPUT = input(\"Enter the Input Query \")\n",
    "token_vector = token_instance.get_token(INPUT)\n",
    "print(token_vector)\n",
    "res = es.search(\n",
    "    index=\"books\",\n",
    "    knn  ={\n",
    "                \"field\": \"desc_vector\",\n",
    "                \"query_vector\": token_vector,\n",
    "                \"k\": 10,\n",
    "                \"num_candidates\": 50\n",
    "   \n",
    "            }\n",
    ",\n",
    "    request_timeout=55\n",
    ")\n",
    "\n",
    "title = [x['_source']['title']  for x in res['hits']['hits']] \n",
    "title\n"
   ]
  },
  {
   "cell_type": "code",
   "execution_count": 10,
   "metadata": {},
   "outputs": [
    {
     "data": {
      "text/plain": [
       "[]"
      ]
     },
     "execution_count": 10,
     "metadata": {},
     "output_type": "execute_result"
    }
   ],
   "source": [
    "INPUT = input(\"Enter the Input Query \")\n",
    "\n",
    "res1 = es.search(\n",
    "    index=\"books\",\n",
    "    query={\n",
    "            \"bool\": {\n",
    "                 \"must\": [\n",
    "                {\"match\": {\"title\": INPUT}},\n",
    "                {\"range\": {\"pageCount\": {\"gte\": 200, \"lte\": 300}}},\n",
    "                {\"range\": {\"averageRating\": {\"gte\": 2.0, \"lte\": 5.0}}}\n",
    "            ]\n",
    "                },\n",
    "                \n",
    "            },\n",
    "                    \n",
    ")\n",
    "\n",
    "title = [x['_source']['title']  for x in res1['hits']['hits']] \n",
    "title\n"
   ]
  },
  {
   "cell_type": "code",
   "execution_count": 9,
   "metadata": {},
   "outputs": [
    {
     "name": "stdout",
     "output_type": "stream",
     "text": [
      "{'took': 2, 'timed_out': False, '_shards': {'total': 1, 'successful': 1, 'skipped': 0, 'failed': 0}, 'hits': {'total': {'value': 71, 'relation': 'eq'}, 'max_score': 6.0506496, 'hits': [{'_index': 'books', '_id': 'TrHO0onCR-EC', '_score': 6.0506496, '_source': {'id': 'TrHO0onCR-EC', 'title': 'The End of Harry Potter?', 'desc': \"The publication of Harry Potter and the Deathly Hallows, the seventh and final Harry Potter novel, is probably the most eagerly anticipated event in the history of publishing. Even the smallest hints from author J. K. Rowling about what may happen to Harry and his friends have been major news stories. In The End of Harry Potter?, David Langford—Potter fan and award-winning writer—delves into the many mysteries which remain unsolved. Is Albus Dumbledore really dead? Whose side is Severus Snape really on? What are the remaining horcruxes, where He Who Shall Not Be Named has stashed his soul? Does Harry bear a part of the Dark Lord's soul in his scar, and is this why he understands Parseltongue? J. K. Rowling is the only person who knows the answers to these questions. But in this highly entertaining book, Langford uses his deep knowledge of the six published Harry Potter novels to explore these and other mysteries, and to present a selection of possible outcomes. Only the publication of Harry Potter and the Deathly Hallows will lay these questions to rest, but in the meantime, fans of the series will find David Langford's book entertaining and thought-provoking, and a perfect way to refresh their memory of the first six books in readiness for the last. At the Publisher's request, this title is being sold without Digital Rights Management Software (DRM) applied.\", 'desc_vector': [-0.03263809531927109, -0.07886822521686554, 0.042497359216213226, 0.013253165408968925, -0.09915635734796524, -0.01956186816096306, -0.006690341513603926, -0.01028520055115223, 0.02450435608625412, -0.0399082712829113, -0.055151525884866714, 0.0668874979019165, -0.06010737270116806, -0.08640486001968384, -0.056164201349020004, -0.03135349228978157, -0.08342453092336655, -0.0033567866776138544, -0.09423524886369705, 0.01599409244954586, 0.04449743404984474, 0.03700060397386551, 0.0044456603936851025, -0.07004933804273605, 0.07285046577453613, -0.09979845583438873, 0.0008863601833581924, -0.01659245789051056, -0.07647754997015, 0.0036263989750295877, 0.00690761674195528, 0.011637138202786446, -0.062337182462215424, -0.036833755671978, 0.002342913066968322, 0.019362129271030426, 0.0665103867650032, 0.05092623829841614, 0.1253536194562912, 0.0011129194172099233, -0.023985328152775764, -0.06904090195894241, -0.09549900889396667, 0.11981996148824692, -0.01962953805923462, -0.02012721635401249, -0.006583439651876688, -0.020534778013825417, -0.06097576394677162, 0.053274475038051605, -0.07565521448850632, -0.0017116439994424582, 0.02656230702996254, -0.01220979355275631, -0.04197882488369942, -0.030627602711319923, -0.015387944877147675, 0.03288373723626137, 0.0387919619679451, -0.014161530882120132, -0.012863527052104473, -0.03735092654824257, -0.01160624623298645, 0.027663253247737885, 0.025659436360001564, -0.0621587298810482, 0.032635197043418884, -0.024808593094348907, -0.037019677460193634, -0.011814559809863567, 0.006676988676190376, 0.02175770327448845, 0.08333546668291092, -0.0231386236846447, 0.01031147688627243, 0.034236229956150055, -0.07318076491355896, -0.07661780714988708, -0.058259643614292145, -0.025089729577302933, 0.051418278366327286, -0.00859741773456335, 0.02673058770596981, 0.02682117372751236, 0.018336893990635872, -0.02640254981815815, 0.07932768017053604, 0.006458560936152935, -0.13192574679851532, 0.052933041006326675, 0.05312450975179672, -0.005781394895166159, 0.03681850805878639, 0.02194511890411377, 0.040844790637493134, 0.12106098234653473, 0.09320701658725739, 0.037208545953035355, -0.07494887709617615, -0.007732142228633165, -0.0648367777466774, -0.04020305350422859, 0.021701661869883537, -0.03334615007042885, 0.06254632025957108, -0.0325576514005661, -0.040994737297296524, -0.03755857050418854, 0.01414137426763773, -0.06396908313035965, -0.05228647589683533, -0.01457899808883667, -0.013953832909464836, -0.06338474154472351, 0.07127858698368073, 0.030547037720680237, 0.03791222721338272, 0.029863828793168068, 0.020093616098165512, 0.015528290532529354, -0.008866480551660061, 0.11639685928821564, 0.017777293920516968, 0.01153368130326271, 0.0023068776354193687, -0.011723286472260952, -0.03899107128381729, 5.901052538130917e-33, 0.02778036519885063, -0.014529060572385788, -0.037065278738737106, 0.048525646328926086, -0.05209110304713249, -0.04072503373026848, -0.03020491451025009, -0.000901240564417094, 0.023264866322278976, -0.020629823207855225, -0.02779749408364296, -0.019104035571217537, 0.012577417306602001, -0.010591963306069374, -0.05548226088285446, 0.047384560108184814, -0.05744490027427673, 0.001000445568934083, 0.007155014201998711, -0.0129056042060256, 0.02513519860804081, -0.004904871340841055, 0.0024168305099010468, 0.06746776401996613, -0.04619385674595833, 0.033872660249471664, 0.05428323522210121, 0.014899972826242447, -0.0909368097782135, 0.004897317849099636, -0.08525454252958298, 0.007143604103475809, 0.02482842467725277, -0.11603810638189316, -0.030098047107458115, -0.008905112743377686, -0.04014582559466362, -0.033943455666303635, 0.025398168712854385, 0.009943965822458267, -0.029995407909154892, 0.043180715292692184, -0.04333775117993355, -0.09461246430873871, -0.06882856041193008, -0.0041802325285971165, 0.02385382540524006, 0.035603947937488556, 0.043967973440885544, -0.025055546313524246, 0.03839365765452385, -0.024176523089408875, -0.022279461845755577, -0.01690737158060074, 0.00913180410861969, 0.07492346316576004, -0.013411433435976505, -0.05389860272407532, 0.10553993284702301, 0.04351452365517616, 0.028250839561223984, 0.0494595430791378, 0.03268807753920555, 0.007630320265889168, -0.019139831885695457, 0.11225967109203339, -0.08066782355308533, -0.08520064502954483, -0.03654349967837334, -0.06025707349181175, -0.1198209673166275, 0.006007182411849499, -0.0330844484269619, -0.0697074607014656, -0.041885990649461746, 0.009495477192103863, -0.00905608106404543, 0.016449717804789543, -0.06013300642371178, -0.017273537814617157, 0.08015726506710052, 0.06599877774715424, -0.016319558024406433, -0.04211156442761421, -0.02542426437139511, -0.0637703388929367, -0.019043775275349617, -0.04148934781551361, -0.08584289997816086, 0.0705777034163475, 0.03708702325820923, -0.04010595753788948, -0.08209621161222458, -0.01805078610777855, 0.010994183830916882, -7.274720175480473e-33, 0.01217363029718399, -0.129332035779953, -0.04700345918536186, 0.01722542941570282, -0.06439175456762314, 0.05500906705856323, -0.11403792351484299, 0.04814128577709198, 0.06141798198223114, -0.0391647070646286, -0.031202349811792374, 0.0790252611041069, 0.06811008602380753, 0.04751676321029663, -0.043484948575496674, 0.011124376207590103, 0.04589996114373207, -0.0573551319539547, -0.022504890337586403, 0.026905836537480354, -0.01812421903014183, 0.0338718555867672, -0.09335318952798843, -0.06803099811077118, 0.033716026693582535, 0.057768747210502625, 0.023211993277072906, -0.052450455725193024, -0.08524443209171295, 0.011378548108041286, 0.09497983008623123, -0.046595118939876556, -0.008943107910454273, -0.02350112982094288, -0.017795436084270477, 0.011687567457556725, 0.03737650066614151, -0.08847158402204514, 0.004474577959626913, -0.052505042403936386, 0.08697910606861115, -0.014699941501021385, 0.09504742175340652, -0.03563676401972771, 0.03591116890311241, -0.032245710492134094, 0.06370627135038376, 0.10485075414180756, -0.028562402352690697, 0.07615989446640015, 0.044252995401620865, 0.054148368537425995, -0.03522041440010071, 0.018065478652715683, 0.07131025195121765, 0.05717413127422333, -0.06898873299360275, -0.05849194526672363, 0.007962353527545929, -0.02736072614789009, -0.04872588813304901, 0.019168449565768242, 0.06849347054958344, 0.02048480324447155, 0.010628744959831238, -0.01626492850482464, -0.051351532340049744, -0.0042269546538591385, -0.026741836220026016, -0.08506221324205399, -0.002616048324853182, -0.026333127170801163, -0.04946957156062126, -0.03764434531331062, 0.04885601997375488, 0.1264035701751709, 0.015118245966732502, -0.00022155922488309443, -0.05272186920046806, 0.05853099003434181, 0.0014328185934573412, 0.038655638694763184, -0.028401466086506844, 0.03912339732050896, 0.05255693942308426, 0.022247642278671265, 0.004317899700254202, 0.025174081325531006, 0.041227832436561584, -0.07119853049516678, 0.024607080966234207, -0.03695492073893547, 0.017914777621626854, -0.002117226831614971, 0.10563963651657104, -6.638823890625645e-08, -0.009207763709127903, 0.022512616589665413, -0.018422918394207954, -0.09656284004449844, -0.026822181418538094, 0.01296316459774971, 0.03614009544253349, 0.047243840992450714, -0.021456221118569374, 0.08105120807886124, 0.1339942365884781, 0.004865795839577913, -0.07235701382160187, -0.04405553266406059, 0.0018505783518776298, -0.023403987288475037, 0.0011353080626577139, -0.020171985030174255, -0.020657073706388474, 0.016571741551160812, 0.015417300164699554, -0.07271429151296616, 0.07038023322820663, 0.025248302146792412, 0.09543868899345398, 0.07570517063140869, 0.022688936442136765, -0.12058363109827042, -0.03279793635010719, 0.06272686272859573, 0.06565456092357635, 0.010777495801448822, 0.09638330340385437, -0.018731309100985527, 0.0010413408745080233, 0.024241233244538307, 0.002304438268765807, 0.09428620338439941, 0.028439365327358246, 0.07778387516736984, 0.0655687004327774, -0.038753315806388855, -0.012828883714973927, 0.041298288851976395, -0.011722084134817123, -0.03277405723929405, 0.05764985829591751, 0.012477222830057144, 0.019072962924838066, -0.024678580462932587, -0.03494898974895477, -0.03126533329486847, 0.09566795080900192, 0.045135706663131714, 0.037232764065265656, 0.020406758412718773, -0.04325925186276436, 0.13057182729244232, -0.017982644960284233, -0.04268798977136612, 0.09588150680065155, -0.0237411018460989, -0.04276641085743904, 0.07632391899824142], 'authors': \"['David Langford']\", 'categories': \"['Literary Criticism']\", 'averagerating': 3.5, 'maturityrating': 'NOT_MATURE', 'publisheddate': '2007-03-20', 'pagecount': 208.0}}, {'_index': 'books', '_id': 'L18VBQAAQBAJ', '_score': 6.0506496, '_source': {'id': 'L18VBQAAQBAJ', 'title': 'The Psychology of Harry Potter', 'desc': 'Harry Potter has provided a portal to the wizarding world for millions of readers, but an examination of Harry, his friends and his enemies will take us on yet another journey: through the psyche of the Muggle (and wizard!) mind. The twists and turns of the series, as well as the psychological depth and complexity of J. K. Rowling’s characters, have kept fans enthralled with and puzzling over the many mysteries that permeate Hogwarts and beyond: • Do the Harry Potter books encourage disobedience? • Why is everyone so fascinated by Professor Lupin? • What exactly will Harry and his friends do when they finally pass those N.E.W.T.s? • Do even wizards live by the ticking of the clock? • Is Harry destined to end up alone? And why did it take Ron and Hermione so long to get together? Now, in The Psychology of Harry Potter, leading psychologists delve into the ultimate Chamber of Secrets, analyzing human mind and motivation by examining the themes and characters that make the Harry Potter books the bestselling fantasy series of all time. Grab a spot on the nearest couch, and settle in for some fresh revelations about our favorite young wizard!', 'desc_vector': [-0.027668774127960205, -0.07021182030439377, 0.01291115302592516, 0.06833466142416, -0.043895475566387177, -0.032320644706487656, -0.02791309542953968, 0.015854867175221443, 0.04026816040277481, -0.07629242539405823, -0.0719110295176506, 0.0877428725361824, -0.060041625052690506, 0.019471365958452225, -0.010528326965868473, -0.06678766012191772, -0.041928574442863464, -0.0326651856303215, -0.08235477656126022, -0.03619542717933655, -0.033370133489370346, -0.06211450695991516, 0.028230400756001472, -0.07630737125873566, 0.0002619047008920461, 0.0016098626656457782, 0.03329755365848541, -0.025939511135220528, -0.0886869728565216, 0.052567239850759506, 0.06330187618732452, 0.03156253695487976, -0.06463811546564102, -0.020975539460778236, -0.049384623765945435, -0.003976259380578995, 0.042309172451496124, 0.06802701205015182, 0.10234726220369339, -0.06115759536623955, 0.012796792201697826, -0.04055943712592125, -0.04176710918545723, 0.0939122885465622, -0.01868579536676407, -0.04151943325996399, -0.06961569935083389, -0.049663886427879333, -0.09979680925607681, -0.0026662368327379227, -0.05839812755584717, 0.048162706196308136, 0.004422168713063002, -0.03481253236532211, 0.029567979276180267, 0.033174265176057816, 0.023492369800806046, 0.016563167795538902, 0.018910231068730354, -0.0013563641114160419, -0.02052377536892891, -0.06362077593803406, -0.03601595386862755, 0.029755301773548126, 0.049614351242780685, -0.10808835178613663, 0.06677346676588058, 0.0939645767211914, 0.04587936773896217, -0.055892687290906906, -0.07431688904762268, 0.03209294378757477, 0.05131590738892555, -0.00036845210706815124, 0.0827939361333847, 0.038376931101083755, -0.09678500145673752, -0.028616350144147873, 0.04355049878358841, -0.05342453718185425, 0.05899848788976669, 0.025622641667723656, 0.07481381297111511, 0.00791567750275135, 0.04383062198758125, -0.06167801842093468, 0.005193663761019707, 0.023358842357993126, -0.0669839158654213, -0.006934794131666422, 0.010664118453860283, 0.013072383590042591, -0.03757326304912567, 0.06159321963787079, 0.035065196454524994, 0.12308424711227417, 0.032134056091308594, 0.037682902067899704, -0.10355187952518463, -0.009656430222094059, 0.01439555175602436, 0.01598624512553215, 0.049917977303266525, 0.01055299211293459, 0.010450523346662521, -0.02141956053674221, 0.02913222648203373, -0.0729624405503273, -0.021443933248519897, -0.027796516194939613, -0.0394156351685524, -0.040512628853321075, 0.0030042279977351427, -0.07341069728136063, 0.09398411959409714, -0.011304719373583794, 0.02768135443329811, 0.0898604467511177, 0.05570361390709877, 0.048576999455690384, 0.00482231006026268, 0.13097815215587616, 0.0531456433236599, -8.733032882446423e-05, 0.03407292068004608, -0.024280814453959465, -0.10290256887674332, 4.83131337329028e-33, -0.03253491595387459, 0.009929471649229527, -0.07948923110961914, 0.05757937580347061, -0.041312046349048615, 0.010694610886275768, -0.050870392471551895, 0.019747067242860794, 0.003618696704506874, 0.055826250463724136, -0.039966728538274765, 0.08814247697591782, -0.0417642816901207, -0.016066502779722214, -0.03722505271434784, -0.04522237554192543, -0.07980069518089294, -0.02404288575053215, -0.02958301082253456, 0.026547929272055626, 0.06687479466199875, -0.020583176985383034, 0.04387957975268364, 0.03159047290682793, -0.04403993487358093, -0.0158097967505455, -0.046910736709833145, 0.025536682456731796, -0.03172561526298523, 0.037982188165187836, -0.055911868810653687, -0.02713124081492424, -0.08501233160495758, -0.06574977934360504, -0.0882602408528328, -0.06643328815698624, -0.006350752431899309, -0.06889082491397858, 0.08631803840398788, -0.08076918125152588, -0.04832389950752258, -0.018623558804392815, -0.06863386183977127, -0.011967836879193783, -0.0799969732761383, 0.09129688888788223, -0.013367380946874619, -0.03771641105413437, -0.04427267238497734, 0.02185768634080887, -0.02290472388267517, -0.09208370745182037, -0.014836665242910385, -0.05823573097586632, -0.05451084300875664, 0.09578414261341095, -0.0019975383765995502, -0.04586552456021309, 0.08505865931510925, -0.028360914438962936, 0.03989738970994949, 0.07387322187423706, -0.045572616159915924, 6.755442427675007e-06, 0.05029905214905739, 0.02828073874115944, -0.010369162075221539, 0.010209034197032452, -0.04799899086356163, 0.03120567835867405, -0.045914143323898315, 0.046286441385746, -0.11228642612695694, -0.10771141201257706, 0.019252104684710503, -0.014604968018829823, 0.0735572874546051, 0.05017814040184021, -0.0613839253783226, -0.0386151559650898, 0.07344827055931091, 0.060497500002384186, -0.02318407967686653, -0.04125639423727989, -0.002419239841401577, -0.03460516408085823, 0.02598896622657776, -0.0549900121986866, -0.029093435034155846, 0.03655440732836723, 0.09925977885723114, -0.018648477271199226, 0.054282933473587036, -0.00602752948179841, 0.04465487226843834, -7.183589241249005e-33, 0.07229571789503098, -0.03693094104528427, 0.005615640431642532, -0.02976381778717041, 0.013696650043129921, -0.02819790691137314, -0.03397265821695328, 0.002369704656302929, 0.09103737771511078, -0.008815614506602287, -0.07383564859628677, 0.012801005505025387, 0.07141121476888657, 0.055634189397096634, -0.005941576790064573, -0.039279114454984665, 0.04966217651963234, 0.03773586452007294, 0.03293517976999283, -0.03559199720621109, 0.010796239599585533, 0.08164653927087784, -0.1371438354253769, -0.0674440860748291, 0.00942560937255621, 0.0032703946344554424, 0.01792970858514309, -0.0913839042186737, -0.09194201231002808, 0.09172750264406204, 0.06517253071069717, 0.0034340533893555403, 0.013099074363708496, -0.07586248964071274, 0.005264087114483118, 0.019132548943161964, -0.02238732948899269, -0.04446811601519585, -0.06086306273937225, -0.06416117399930954, 0.04267386719584465, -0.012832719832658768, -0.0037205389235168695, -0.06520378589630127, -0.004582899622619152, 0.023304497823119164, 0.04595828801393509, 0.08639101684093475, -0.05058547481894493, 0.06520693749189377, 0.01655597612261772, 0.06659230589866638, -0.03915473446249962, -0.03853309899568558, 0.04932039603590965, 0.004450452513992786, 0.03669348731637001, -0.011363869532942772, -0.02096276357769966, -0.009630050510168076, -0.07182230055332184, -0.03192233294248581, 0.044303081929683685, 0.023942317813634872, -0.017696568742394447, -0.020678026601672173, -0.04689257964491844, 0.016601786017417908, 0.045766156166791916, -0.07125190645456314, -0.01561215054243803, -0.012819599360227585, -0.06233008950948715, -0.044279590249061584, 0.04224549978971481, 0.11380653828382492, -0.012292850762605667, -0.023863332346081734, -0.06018633022904396, 0.02129114232957363, 0.009528154507279396, 0.03231877461075783, -0.01088049914687872, -0.037051692605018616, 0.008492108434438705, -0.05650271847844124, 0.0016939319903030992, 0.055238690227270126, 0.004054552409797907, -0.052440714091062546, 0.09652204066514969, -0.03540526330471039, -0.01744762435555458, 0.0011314298026263714, 0.05488770827651024, -6.522697049149428e-08, -0.09350646287202835, 0.012815959751605988, 0.034347549080848694, -0.02442796155810356, 0.04413682594895363, -0.0023294747807085514, 0.03227248042821884, 0.05689733475446701, 0.03155258297920227, 0.11336001008749008, 0.10724060237407684, -0.004431651905179024, -0.04208027943968773, 0.04045247286558151, 0.052688565105199814, 0.04873286560177803, 0.007210446055978537, -0.029591113328933716, 0.0054642739705741405, 0.04941941425204277, 0.026538489386439323, -0.05933529883623123, 0.028557518497109413, -0.025963440537452698, 0.040059082210063934, 0.011355934664607048, -0.0641169399023056, -0.11982450634241104, 0.026397667825222015, 0.006962419021874666, 0.07904753088951111, -0.04103241115808487, 0.049213118851184845, -0.013855021446943283, -0.05103762820363045, -0.024503547698259354, -0.014483035542070866, 0.0068846591748297215, 0.0373394675552845, 0.012208751402795315, 0.01839238777756691, -0.06482000648975372, 0.04303474724292755, 0.052283916622400284, -0.03489699587225914, 0.007147110067307949, -0.021111639216542244, 0.04931577667593956, -0.008043551817536354, -0.016293680295348167, -0.06193401291966438, 0.019478250294923782, 0.07101289927959442, -0.05721958354115486, 0.07959236204624176, 0.010191029869019985, -0.027000896632671356, 0.15439094603061676, -0.016745133325457573, -0.05391183868050575, 0.06639910489320755, 0.05747194215655327, -0.031382251530885696, -0.002835818100720644], 'authors': \"['Neil Mulholland']\", 'categories': \"['Literary Criticism']\", 'averagerating': 3.5, 'maturityrating': 'NOT_MATURE', 'publisheddate': '2007-04-10', 'pagecount': 326.0}}, {'_index': 'books', '_id': 'wVoHAQAAQBAJ', '_score': 6.0506496, '_source': {'id': 'wVoHAQAAQBAJ', 'title': 'Wild About Harry', 'desc': 'HER SECOND LOVE OF A LIFETIME? Amy Ryan strictly defined herself in three ways: successful businesswoman, devoted mother and grieving widow. Wild certainly never entered into the description. That is, until she met powerful Australian businessman Harry Griffith. Suddenly, Amy was doing all kinds of wild things—enjoying romantic dinners, taking spontaneous luxury vacations, falling in love. And yet, a part of her was still devoted to her husband, still wanted to touch him, hold him, talk to him. But Harry demanded nothing less than all of Amy. How could she love Harry, without betraying her husband?', 'desc_vector': [-0.060335446149110794, -0.08024633675813675, 0.06862027198076248, 0.036116570234298706, -0.045863013714551926, -0.02668560855090618, 0.01798437349498272, -0.002882937900722027, 0.07697203755378723, -0.038517359644174576, -0.01683593913912773, 0.014078473672270775, -0.04007067531347275, 0.0013775910483673215, 0.0486784502863884, 0.06154336407780647, -0.06698976457118988, -0.06593751907348633, -0.050315458327531815, 0.12446144223213196, -0.005120827350765467, 0.0056218900717794895, 0.0010918773477897048, -0.011741594411432743, -0.0030357218347489834, 0.010437056422233582, 0.062171570956707, 0.039056602865457535, -0.09646167606115341, 0.08104068040847778, 0.07387736439704895, 0.01759273186326027, -0.07859121263027191, 0.17894095182418823, -0.017208177596330643, -0.0006316478829830885, -0.09766560792922974, -0.0058778319507837296, 0.03252292796969414, -0.026774393394589424, -0.03573762625455856, -0.07339358329772949, -0.01380204875022173, 0.017043612897396088, -0.10976754128932953, -0.03506115823984146, -0.027926430106163025, 0.008583453483879566, 0.01576334610581398, -0.01985345222055912, -0.055077359080314636, -0.019222179427742958, -0.11280051618814468, -0.07370185852050781, 0.13040399551391602, 0.045029524713754654, 0.01930706948041916, 0.01805214397609234, 0.013898540288209915, 0.037106953561306, 0.0738544836640358, 0.043184854090213776, 0.05883833020925522, -0.00037580510252155364, 0.03252637758851051, -0.12013348937034607, -0.05239046737551689, -0.006937279831618071, -0.04264651983976364, -0.00820226687937975, -0.030999375507235527, 0.052276525646448135, -0.01838427409529686, -0.035956040024757385, 0.018062137067317963, -0.11521223932504654, 0.025061093270778656, -0.018361836671829224, 0.01713280938565731, -0.04619213938713074, -0.05876367911696434, -0.024937564507126808, 0.049579475075006485, 0.10145807266235352, -0.0031940191984176636, -0.045529890805482864, 0.022308237850666046, -0.015129303559660912, -0.024388402700424194, 0.025837449356913567, -0.02294403873383999, -0.05725949630141258, -0.0874427929520607, 0.02290358766913414, -0.03370280563831329, 0.02740166150033474, -0.004650249145925045, -0.0009705607662908733, -0.07505501061677933, -0.01832783967256546, -0.0445529967546463, 0.05605959892272949, 0.018713045865297318, -0.033941008150577545, -0.06017288938164711, -0.0016294451197609305, 0.03092379868030548, -0.03144606947898865, -0.024358704686164856, 0.053007565438747406, -0.016085632145404816, -0.04562436416745186, 0.04618307203054428, -0.04621585085988045, 0.0637175589799881, 0.04460495337843895, 0.023586567491292953, 0.027913885191082954, 0.06582099944353104, 0.014592617750167847, -0.05573919042944908, 0.0436590313911438, 0.056318432092666626, 0.024013176560401917, -0.03801150619983673, -0.0189923457801342, 0.00015211582649499178, 3.808579288803149e-33, -0.07156587392091751, -0.058089468628168106, -0.05611066520214081, 0.04114830493927002, -0.038069725036621094, 0.03206779807806015, -0.009158847853541374, 0.008396920748054981, 0.0014674150152131915, -0.00767900375649333, 0.0391799621284008, 0.005410544108599424, -0.0502481609582901, -0.024865178391337395, 0.014364492148160934, 0.07969539612531662, -0.05215127021074295, -0.007296629715710878, 0.08720700442790985, 0.06858309358358383, 0.02200888842344284, 0.08711051195859909, 0.06758245825767517, 0.0008466792060062289, -0.09255866706371307, -0.08000577986240387, -0.02186175249516964, 0.02029847912490368, 0.018698520958423615, 0.0025085865054279566, 0.010535142384469509, -0.011327068321406841, -0.035761285573244095, -0.08917073905467987, 0.016616718843579292, -0.0036817362997680902, -0.016647931188344955, -0.006843984592705965, 0.03823205828666687, 0.014120982028543949, -0.05617358162999153, -8.434455958195031e-05, 0.07545413821935654, -0.025738226249814034, -0.0881590023636818, 0.12083470076322556, 0.0340750515460968, 0.06263739615678787, 0.03949403390288353, 0.008481240831315517, 0.03676026314496994, -0.1039222702383995, -0.004653239622712135, -0.0002391973976045847, -0.09537383913993835, 0.09117747843265533, 0.005049535539001226, -0.04136313870549202, 0.10067284107208252, 0.05165155231952667, -0.0022822197061032057, 0.025005675852298737, 0.05058470368385315, -0.0036406770814210176, -0.018393829464912415, 0.032435350120067596, 0.10555526614189148, -0.04156224802136421, -0.08690498024225235, 0.10700102895498276, -0.029513269662857056, -0.00622364180162549, -0.00484297052025795, -0.11189711093902588, -0.10645722597837448, -0.003312342567369342, 0.12599793076515198, -0.019111374393105507, 0.09591291099786758, -0.06326804310083389, -0.09603177756071091, 0.07222747802734375, 0.07733852416276932, -0.021510563790798187, 0.05155600607395172, -0.08895764499902725, -0.003712713485583663, -0.050704456865787506, -0.06304905563592911, 0.10946691036224365, 0.006498496513813734, 0.02678118646144867, -0.027790673077106476, -0.12556777894496918, 0.058702751994132996, -6.950731157190803e-33, 0.04144364595413208, -0.05189848318696022, -0.03608134016394615, -0.01191158127039671, 0.026951797306537628, -0.06685000658035278, -0.048722043633461, -0.04196036234498024, 0.038370903581380844, -0.0033057278487831354, 0.03154964745044708, -0.04930032044649124, 0.01787160336971283, 0.06552004814147949, -0.00335542019456625, -0.050396133214235306, -0.013714497908949852, -0.014603782445192337, 0.06518809497356415, -0.02922406792640686, 0.059447161853313446, 0.08364275842905045, -0.01609460450708866, 0.03190106898546219, -0.0223656315356493, -0.03447640687227249, -0.026780419051647186, 0.04174390062689781, -0.03202678635716438, -0.04394347593188286, 0.06739714741706848, -0.008443658240139484, -0.00733125489205122, -0.07076147198677063, -0.023704975843429565, -0.0014843640383332968, -0.0692867562174797, -0.06354060024023056, 0.00039825777639634907, -0.031355470418930054, 0.11580459773540497, 0.01793067529797554, 0.016998019069433212, 0.010135291144251823, -0.03136521205306053, 0.009440038353204727, 0.0836426317691803, -0.054582562297582626, 0.026328442618250847, 0.015194406732916832, 0.014211724512279034, -0.041113924235105515, -0.007636992726475, 0.02286183461546898, -0.003986794501543045, 0.04701095074415207, 0.06162019446492195, 0.04482004791498184, 0.04455653205513954, -0.08842572569847107, -0.058986786752939224, -0.018189432099461555, -0.017242372035980225, 0.02197159081697464, -0.0014711837284266949, -0.0063287364318966866, 0.011763428337872028, -0.044989727437496185, -0.0026055146008729935, -0.02992459386587143, -0.042622584849596024, 0.004776339512318373, -0.03780509904026985, 0.021976152434945107, 0.025793666020035744, 0.013476931490004063, -0.1008826196193695, -0.04724685847759247, 0.04816470667719841, 0.0537298209965229, -0.04984511435031891, 0.10923366993665695, 0.040648140013217926, -0.00034633249742910266, -0.0402100533246994, 0.0005149521166458726, -0.04998253285884857, 0.021821465343236923, 0.017573317512869835, -0.07640885561704636, 0.046368904411792755, -0.0606091134250164, 0.07816074788570404, -0.04753296077251434, -0.06594148278236389, -5.1179803506329336e-08, -0.09209934622049332, -0.007392469327896833, 0.0295433197170496, -0.09321807324886322, 0.008500037714838982, -0.09063225239515305, 0.013071050867438316, -0.03405674546957016, 0.008371430449187756, 0.0731000080704689, -0.0372769795358181, 0.0650128647685051, -0.010389546863734722, 0.06397721916437149, 0.033124372363090515, -0.07192014157772064, 0.06440605968236923, -0.08193861693143845, -0.013706034049391747, -0.009515811689198017, -0.012926191091537476, -0.029795700684189796, -0.009944206103682518, 0.023935701698064804, -0.002290999284014106, 0.08625458180904388, 0.031048014760017395, -0.09083160758018494, 7.066240505082533e-05, 0.046137817203998566, 0.03957643732428551, -0.03819901496171951, -0.011922398582100868, -0.014958089217543602, -0.05159803479909897, -0.0622146911919117, 0.0062944646924734116, -0.03186415880918503, -0.050614506006240845, 0.017850341275334358, 0.0489400252699852, -0.051535170525312424, 0.022666096687316895, -0.027688106521964073, 0.007680099457502365, 0.018358904868364334, 0.050188690423965454, -0.0016988198040053248, 0.030828136950731277, 0.004124188795685768, 0.010402176529169083, 0.014624838717281818, -0.03746287524700165, -0.001014033448882401, -0.0550353117287159, -0.032483603805303574, -0.010797853581607342, 0.08972892165184021, 0.0011392171727493405, -0.029106656089425087, 0.04745733365416527, 0.02523890510201454, 0.11319762468338013, -0.03907930478453636], 'authors': \"['Linda Lael Miller']\", 'categories': \"['Fiction']\", 'averagerating': 2.5, 'maturityrating': 'NOT_MATURE', 'publisheddate': '2014-01-28', 'pagecount': 512.0}}, {'_index': 'books', '_id': 'jX45bvvHXLAC', '_score': 6.0506496, '_source': {'id': 'jX45bvvHXLAC', 'title': 'Harry S. Truman', 'desc': 'The plainspoken man from Missouri who never expected to be president yet rose to become one of the greatest leaders of the twentieth century In April 1945, after the death of Franklin Delano Roosevelt, the presidency fell to a former haberdasher and clubhouse politician from Independence, Missouri. Many believed he would be overmatched by the job, but Harry S. Truman would surprise them all. Few chief executives have had so lasting an impact. Truman ushered America into the nuclear age, established the alliances and principles that would define the cold war and the national security state, started the nation on the road to civil rights, and won the most dramatic election of the twentieth century—his 1948 \"whistlestop campaign\" against Thomas E. Dewey. Robert Dallek, the bestselling biographer of John F. Kennedy and Lyndon B. Johnson, shows how this unassuming yet supremely confident man rose to the occasion. Truman clashed with Southerners over civil rights, with organized labor over the right to strike, and with General Douglas MacArthur over the conduct of the Korean War. He personified Thomas Jefferson\\'s observation that the presidency is a \"splendid misery,\" but it was during his tenure that the United States truly came of age.', 'desc_vector': [-0.05124185234308243, -0.004038139246404171, -0.04503632336854935, 0.03671849146485329, 0.013485436327755451, 0.054500918835401535, -0.00417747488245368, 0.024390604346990585, -0.09678436070680618, -0.010966301895678043, -0.0002612585376482457, 0.0879460871219635, 0.06015928089618683, -0.02288263849914074, -0.006886368617415428, 0.06812843680381775, -0.04476897791028023, 0.0662379115819931, -0.024606650695204735, -0.04458453878760338, -0.04531001299619675, 0.013668029569089413, -0.01563211716711521, -0.045893244445323944, 0.029217267408967018, -0.0002459472743794322, 0.040064215660095215, -0.023291874676942825, -0.09208088368177414, 0.08029978722333908, 0.0008327524992637336, -0.08951147645711899, -0.002697127405554056, 0.0008966460009105504, 0.045057788491249084, -0.05868552252650261, -0.0040894318372011185, 0.12785185873508453, 0.015971042215824127, -0.037770699709653854, -0.022319085896015167, -0.11008766293525696, 0.01680818945169449, -0.004505223128944635, -0.03251919150352478, 0.03489135205745697, -0.025037506595253944, -0.0021522394381463528, -0.012344992719590664, -0.030094539746642113, 0.09958165138959885, 0.09489841014146805, -0.03516121953725815, -0.04694586619734764, -0.019723037257790565, -0.00858328491449356, 0.01225973665714264, 0.04060600697994232, -0.010615356266498566, -0.021323097869753838, -0.11866451054811478, -0.07955974340438843, 0.03474314510822296, 0.013120590709149837, 0.03623782470822334, 0.04603632539510727, 0.025922724977135658, 0.020180556923151016, -0.006004152353852987, 0.0668649822473526, 0.03528686985373497, -0.002084280364215374, -0.008853904902935028, -0.02296939678490162, -0.05626368522644043, -0.04362500086426735, 0.060502808541059494, 0.1023440808057785, 0.014211990870535374, -0.01852504350244999, 0.12551553547382355, 0.10073591023683548, -0.04260176792740822, 0.0020749857649207115, -0.00971736665815115, 0.034619275480508804, -0.013022149913012981, -0.00928183551877737, -0.020693641155958176, -0.001105611794628203, -0.018337130546569824, -0.0023234887048602104, -0.04147027060389519, 0.01638382486999035, 0.009509563446044922, 0.004128672648221254, -0.009304922074079514, 0.023059755563735962, -0.09845518320798874, 0.02009514905512333, -0.016979049891233444, -0.025738295167684555, -0.027334170415997505, -0.0978676974773407, 0.0032770088873803616, -0.034850288182497025, 0.047525450587272644, -0.08536721765995026, -0.03683518245816231, 0.07090479135513306, -0.006577231455594301, -0.006893398240208626, -0.06784182786941528, -0.017323603853583336, 0.1269356608390808, -0.14370298385620117, -0.0585031695663929, 0.007972346618771553, -0.012869836762547493, -0.034412600100040436, -0.011804776266217232, 0.010427800007164478, -0.1084916815161705, 0.02922341413795948, -0.052538320422172546, -0.02519472874701023, 0.09405053406953812, 9.574890970642054e-34, -0.004191671498119831, -0.04537298157811165, -0.020157793536782265, 0.08598838746547699, -0.04521825164556503, 0.02841298282146454, 0.018666652962565422, -0.10634745657444, 0.017844628542661667, 0.029135532677173615, 0.019225575029850006, -0.024010028690099716, -0.021847529336810112, -0.02412056364119053, -0.01673160307109356, 0.026253236457705498, -0.12360458076000214, 0.006778815295547247, 0.005997282452881336, -0.0635562613606453, -0.01526661030948162, 0.026152605190873146, 0.013884985819458961, -0.04033668711781502, 0.06329331547021866, -0.04369785264134407, -0.08522707223892212, -0.016731856390833855, -0.03737705573439598, 0.007930602878332138, 0.0030228642281144857, 0.0031046844087541103, -0.029125293716788292, -0.012219649739563465, 0.09607404470443726, -0.0909603014588356, -0.03750304505228996, 0.004698708187788725, 0.022059811279177666, -0.05264821648597717, -0.06488192826509476, 0.06767062842845917, -0.018905505537986755, 0.06259354948997498, 0.09548116475343704, 0.010371832177042961, 0.07131695002317429, 0.06919713318347931, -0.004443448502570391, -0.05699871852993965, -0.017565401270985603, 0.03893338888883591, 0.04959297552704811, -0.060385048389434814, 0.0006943136104382575, -0.04353160411119461, 0.03841247782111168, -0.006136018317192793, 0.013855883851647377, -0.02008596993982792, -0.03868456929922104, 0.10235297679901123, -0.030147142708301544, -0.03420634940266609, 0.008149435743689537, 0.07527598738670349, -0.19866499304771423, -0.01754855178296566, -0.013202475383877754, 0.02758941799402237, 0.12114480882883072, -0.024753199890255928, -0.037936337292194366, -0.046743620187044144, 0.02325649932026863, 0.0195811428129673, 0.12975314259529114, 0.06682869046926498, 0.017039978876709938, -0.08977853506803513, 0.03756479546427727, -0.10452024638652802, 0.04307946935296059, -0.04936932027339935, 0.048631105571985245, 0.014910277910530567, -0.035832036286592484, -0.050950177013874054, 0.0447864904999733, 0.13492488861083984, -0.04934448003768921, -0.004839619155973196, 0.061666689813137054, 0.006899186875671148, -0.05977052450180054, -2.590264801187275e-33, -0.05232076346874237, 0.037842608988285065, 0.01821359246969223, 0.055715687572956085, 0.04903796315193176, -0.030436860397458076, -0.05724991485476494, -0.03297853842377663, 0.007781514897942543, -0.006212041713297367, 0.016863543540239334, 0.03431073948740959, 0.05537496507167816, 0.03370598331093788, 0.011344336904585361, 0.03677363693714142, 0.03918365389108658, 0.0005082193529233336, 0.00036200095200911164, 0.0045017823576927185, 0.028757652267813683, 0.07379921525716782, -0.07241401076316833, -0.0058219279162585735, 0.006148863583803177, 0.03883959725499153, 0.021010205149650574, 0.003760863794013858, 0.037309613078832626, 0.03185778856277466, 0.06277463585138321, 0.05034453049302101, -0.042611803859472275, 0.02819369174540043, 0.014392545446753502, -0.045283444225788116, 0.03330766782164574, -0.06340450048446655, -0.015859894454479218, -0.033355630934238434, 0.0007313362439163029, 0.0024344667326658964, -0.002710091881453991, -0.06179559975862503, -0.008292848244309425, 0.030816441401839256, -0.05041234567761421, -0.0037596398033201694, -0.050410374999046326, -0.07669764757156372, -0.062081705778837204, 0.08237078040838242, 0.0008825483382679522, 0.09519848227500916, 0.005368625745177269, -0.016299404203891754, -0.02088456228375435, -0.008752109482884407, 0.017268698662519455, -0.019733328372240067, -0.12562324106693268, -0.06608081609010696, 0.05003409460186958, -0.05149871110916138, 0.09492357820272446, -0.03518800809979439, 0.05582595616579056, 0.015142937190830708, -0.027305351570248604, 0.0013415089342743158, -0.02797793596982956, -0.038885053247213364, 0.022801445797085762, -0.08677078783512115, 0.0407618023455143, 0.024181155487895012, -0.020174648612737656, 0.039629340171813965, -0.05435949191451073, 0.02654196135699749, -0.07840444892644882, 0.04233896732330322, -0.11171745508909225, -0.06634585559368134, -0.00014554901281371713, 0.08398078382015228, -0.041350893676280975, -0.07128501683473587, -0.01795184426009655, 0.0061065517365932465, 0.0014771990245208144, -0.07282315194606781, -0.009357741102576256, 0.032345809042453766, -0.00110307103022933, -5.293967575425995e-08, 0.025537434965372086, 0.09729580581188202, 0.02265036478638649, 0.03832446411252022, 0.0369284562766552, -0.006692448630928993, -0.010734227485954762, -0.07088169455528259, 0.02422260120511055, 0.04053840413689613, 0.0007013760041445494, 0.0300949364900589, 0.0583120621740818, 0.056016210466623306, 0.028788812458515167, -0.0940544381737709, 0.017110535874962807, -0.037543799728155136, -0.0037551557179540396, 0.014911919832229614, 0.11239126324653625, -0.00971562322229147, -0.05118736997246742, 0.047996602952480316, 0.040383853018283844, 0.11332888901233673, 0.06142334267497063, -0.01267772726714611, 0.002054068958386779, 0.05332894250750542, -0.028146136552095413, 0.01843073032796383, -0.07744304835796356, 0.010121233761310577, 0.06180260702967644, 0.035952646285295486, -0.03585080802440643, -0.003462014952674508, 0.004685174208134413, -0.01619364693760872, -0.0528128519654274, 0.15978695452213287, 0.05803869664669037, 0.08006025105714798, 0.003941603936254978, 0.002617756137624383, 0.023581502959132195, 0.05781567096710205, -0.05839726701378822, 0.006173677276819944, -0.04156142473220825, -0.0005215512937866151, -0.033791542053222656, 0.0073635876178741455, 0.08073914051055908, -0.014076270163059235, 0.06778724491596222, 0.005612935405224562, -0.053321074694395065, 0.00237905140966177, 0.004863375797867775, -0.039690807461738586, -0.08685380965471268, 0.039358269423246384], 'authors': \"['Robert Dallek']\", 'categories': \"['Biography & Autobiography']\", 'averagerating': 4.0, 'maturityrating': 'NOT_MATURE', 'publisheddate': '2008-09-02', 'pagecount': 208.0}}, {'_index': 'books', '_id': 'X-Pojd3SHYkC', '_score': 6.0506496, '_source': {'id': 'X-Pojd3SHYkC', 'title': 'Harry Houdini for Kids', 'desc': '&&LDIV&&R&&LDIV&&R&&LP style=\"MARGIN: 0in 0in 0pt\"&&RIllusionist, escape artist, movie star, aviator, and spy—Harry Houdini was all these and an international celebrity and the world’s most famous magician. This fascinating biography looks at all the facets of Houdini’s amazing life and includes 21 magic tricks and illusions for a hands-on learning experience. Children will be inspired by this Jewish immigrant who grew up in poverty and, through perseverance and hard work, went on to become one of the most popular and successful entertainers of all time. Houdini was an artist who created his acts carefully, practicing them for years in some cases. He performed such seemingly impossible stunts as escaping several sets of handcuffs and ropes after jumping off a bridge into a flowing river. &&L/P&&R&&LP style=\"MARGIN: 0in 0in 0pt\"&&R &&L/P&&R&&LP style=\"MARGIN: 0in 0in 0pt\"&&RKids will learn how he devised his most legendary stunts and will also learn the science and logic behind many of Houdini’s acts including his famous milk can escape. Kids can amaze their family and friends with these simple, entertaining, and fun tricks and illusions: &&L/P&&R Stepping through an index card Performing an odd number trick Making a coin appear Mind reading with a secret code Making a magic box Lifting a person with one hand Making a talking board And much more &&LP style=\"MARGIN: 0in 0in 0pt\"&&R &&L/P&&R&&L/DIV&&R&&L/DIV&&R', 'desc_vector': [-0.02523644268512726, 0.03820217028260231, -0.029292766004800797, -0.08140426129102707, -0.044403571635484695, 0.020816892385482788, 0.12237712740898132, 0.0013728191843256354, -0.07587849348783493, -0.038452811539173126, 0.0016860774485394359, -0.023103296756744385, -0.022988375276327133, -0.006837163120508194, -0.05009344220161438, 0.024301771074533463, -0.018776847049593925, 0.07912939786911011, -0.051466893404722214, 0.038550667464733124, 0.06729419529438019, -0.019638067111372948, 0.050944067537784576, -0.03011471778154373, -0.02546984888613224, 0.04204121232032776, -0.017812365666031837, -0.035915497690439224, -0.006812216714024544, -0.05379064381122589, 0.03726641461253166, 0.00829425547271967, -0.09440764784812927, -0.06491287052631378, -0.034663308411836624, -0.02416711114346981, -0.025970257818698883, 0.12093880027532578, 0.0201127752661705, -0.05373293533921242, 0.01868603378534317, -0.022175399586558342, -0.10708130896091461, 0.05184103175997734, 0.043033745139837265, 0.004461850039660931, -0.03679722547531128, -0.04468546062707901, -0.06557627022266388, 0.046437788754701614, -0.1299419105052948, 0.013431952334940434, 0.09906230121850967, -0.03890836611390114, 0.04322785139083862, -0.062298115342855453, -0.022597122937440872, -0.016469385474920273, 0.06763321161270142, 0.008484617806971073, 8.005973541003186e-06, -0.03218817710876465, 0.037736184895038605, -0.009566952474415302, -0.017162488773465157, -0.007127621676772833, 0.007884718477725983, 0.005058393348008394, 0.05194220691919327, -0.019393349066376686, -0.011824019253253937, -0.012324027717113495, -0.047825735062360764, 0.019461369141936302, 0.042499054223299026, -0.050282735377550125, -0.0769151896238327, 0.03008177876472473, -0.08731348067522049, 0.018753506243228912, 0.14505179226398468, -0.05815553292632103, -0.060454946011304855, 0.036494407802820206, 0.031353093683719635, -0.006416697986423969, -0.061241284012794495, 0.02690700627863407, 0.015308544039726257, -0.012490949593484402, -0.03876736760139465, -0.0040783570148050785, -0.07671721279621124, -0.054923079907894135, 0.10436655580997467, -0.06836523860692978, 0.006283897440880537, -0.024323487654328346, -0.042357854545116425, -0.004983243532478809, 0.07100802659988403, -0.04021642357110977, 0.05803677812218666, 0.060874395072460175, 0.05016248673200607, -0.04620907083153725, 0.10126873850822449, -0.030292341485619545, 0.04420691356062889, 0.027209889143705368, 0.01697107031941414, 0.014936461113393307, -0.0008650720701552927, -0.07364483922719955, 0.10807351768016815, 0.06484802067279816, -0.0867096334695816, 0.031024474650621414, -0.01351825799793005, -0.08286391943693161, 0.02808917500078678, 0.12135599553585052, 0.06434762477874756, 0.06785504519939423, -0.004858572036027908, -0.06975246965885162, -0.02915116585791111, 2.566592732684614e-34, 0.04368811100721359, 0.0003946611541323364, 0.02417869120836258, 0.08834005892276764, 0.0009044947219081223, -0.01663902960717678, -0.05376509949564934, -0.0005786555120721459, 0.059052109718322754, -0.006578946951776743, 0.04527439922094345, -0.049309488385915756, -0.02748858742415905, 0.06458915770053864, -0.07550670206546783, 0.05870647355914116, -0.06850071996450424, -0.05239492654800415, -0.028608420863747597, 0.015594450756907463, 0.04230782762169838, -0.015139708295464516, -0.002940957900136709, 0.05515909194946289, -0.08940045535564423, 0.049531273543834686, -0.008134670555591583, 0.03919137641787529, 0.05543680116534233, 0.017115045338869095, 0.007427457254379988, 0.014016209170222282, -0.03410704806447029, -0.09209590405225754, 0.003953493665903807, 0.031068934127688408, 0.007866683416068554, -0.09064335376024246, 0.022732896730303764, 0.05281698331236839, -0.07281647622585297, -0.03686942160129547, 0.027310699224472046, -0.0011650726664811373, -0.016088420525193214, -0.002125284867361188, -0.008371023461222649, 0.02119474485516548, -0.007172023877501488, 0.0876472145318985, -0.06807876378297806, 0.010996902361512184, -0.007129644975066185, -0.03820548951625824, -0.02241010032594204, 0.06440340727567673, 0.031439296901226044, 0.0003481836465653032, 0.002072287257760763, 0.00421947380527854, -0.06549397110939026, 0.03879274055361748, -0.08268417418003082, 0.050259869545698166, -0.07562748342752457, 0.05903804302215576, 0.07139371335506439, 0.052911579608917236, 0.0027356527280062437, 0.06764741241931915, -0.07880807667970657, -0.014182820916175842, -0.06342370808124542, -0.05106978490948677, -0.0878232792019844, -0.009015047922730446, -0.03843572363257408, 0.013355913572013378, -0.05575655400753021, 0.0869704857468605, 0.021787000820040703, 0.03881089389324188, 0.019398663192987442, -0.014721520245075226, 0.03363333269953728, -0.023764366284012794, -0.009557824581861496, -0.09774213284254074, -0.024721842259168625, 0.042213574051856995, 0.030667604878544807, 0.0012365092989057302, 0.04633619263768196, -0.04332190006971359, -0.03750723600387573, -3.8439458730575607e-33, 0.03143515810370445, 0.04944845661520958, 0.08156267553567886, 0.08530367165803909, 0.029669640585780144, -0.008624495938420296, -0.0528763011097908, 0.06520146131515503, 0.035559143871068954, -0.07213357090950012, -0.035126108676195145, 0.016994139179587364, 0.023631669580936432, -0.03826557844877243, 0.06430089473724365, -0.05811987817287445, -0.021779412403702736, 0.04808198660612106, 0.02892390452325344, 0.1106841042637825, 0.06784526258707047, 0.027606988325715065, -0.01961028389632702, 0.0022609764710068703, -0.12649258971214294, 0.0491970032453537, 0.07072390615940094, 0.04659004136919975, 0.03610235080122948, 0.011845659464597702, 0.024321705102920532, 0.055177152156829834, 0.024084169417619705, 0.009076704271137714, -0.07008998095989227, 0.05376559495925903, -0.06460220366716385, 0.01741676591336727, -0.02895529568195343, -0.09387312829494476, -0.026819387450814247, -0.030000248923897743, 0.05467575043439865, -0.08695945143699646, -0.030363693833351135, -0.004854158032685518, -0.06321627646684647, 0.0002537101099733263, -0.030865956097841263, -0.012368143536150455, 0.007590648718178272, 0.07276099920272827, -0.09044225513935089, -0.04285404086112976, 0.03716206178069115, -0.005411803722381592, -0.066533163189888, -0.045288898050785065, 0.09080877155065536, 0.03346455097198486, -0.0020321873016655445, 0.05124792456626892, 0.0032233025413006544, 0.009364215657114983, -0.038414351642131805, 0.051505111157894135, -0.024334505200386047, 0.05063505470752716, -0.08349421620368958, -0.07373649626970291, 0.027736330404877663, 0.028437241911888123, 0.018797004595398903, -0.01703370176255703, -0.0540328286588192, 0.043456070125103, -0.09229989349842072, 0.026405414566397667, 0.0645003467798233, -0.03894743323326111, 0.07054103910923004, -0.008833559229969978, 0.03195224329829216, -0.03114476054906845, -0.0544435977935791, 0.10873871296644211, -0.10876649618148804, -0.03016972914338112, -0.046055421233177185, 0.07810153067111969, 0.07132721692323685, 0.03253653272986412, 0.004364657215774059, 0.004689523484557867, 0.042097561061382294, -6.132355423460467e-08, -0.07827776670455933, 0.09699845314025879, 0.016800083220005035, 0.020749393850564957, -0.021382074803113937, -0.006636067293584347, -0.009516033343970776, -0.008198271505534649, 0.011573576368391514, -0.023847246542572975, 0.028759770095348358, -0.02109735645353794, 0.01845651865005493, 0.0474429577589035, 0.03341234102845192, -0.12273513525724411, -0.048482708632946014, 0.0010177018120884895, -0.0041483864188194275, 0.09599679708480835, 0.05826438590884209, -0.00039641675539314747, 0.09806995838880539, -0.06517574191093445, -0.05005982518196106, -0.019714167341589928, -0.0637330710887909, -0.01046022493392229, 0.008278299123048782, -0.01286154706031084, -0.014430639334022999, -0.06424906849861145, 0.04370851069688797, 0.059164561331272125, -0.010153965093195438, -0.04712259769439697, -0.11568174511194229, -0.10442805290222168, -0.020347150042653084, -0.02707616612315178, -0.003936202265322208, -0.04880363121628761, 0.04927312582731247, 0.005245721433311701, -0.04811753332614899, -0.04589609056711197, -0.015741262584924698, -0.0841011255979538, -0.00961695984005928, 0.10369295626878738, -0.024158967658877373, -0.014606001786887646, 0.08314274251461029, 0.004366640467196703, 0.029264476150274277, 0.04765128716826439, -0.07472788542509079, 0.05138922110199928, -0.07321440428495407, 0.026117609813809395, 0.03413969278335571, -0.016769787296652794, -0.05136764422059059, 0.059592753648757935], 'authors': \"['Laurie Carlson']\", 'categories': \"['Juvenile Nonfiction']\", 'averagerating': 3.0, 'maturityrating': 'NOT_MATURE', 'publisheddate': '2009-02-01', 'pagecount': 144.0}}, {'_index': 'books', '_id': '3PGBUrScs-YC', '_score': 6.0506496, '_source': {'id': '3PGBUrScs-YC', 'title': 'Harry Potter and the Bible', 'desc': 'Examines J.K. Rowling\\'s \"Harry Potter\" books, discussing their use of occult imagery and their potential dangers to Christians, and compares them to the \"safer\" works of C.S. Lewis and J.R.R. Tolkien.', 'desc_vector': [-0.02589874528348446, 0.03469424694776535, -0.07814055681228638, 0.04985886067152023, -0.032405611127614975, -0.05168325453996658, 0.013413069769740105, -0.04329996928572655, 0.0578375868499279, -0.09649258852005005, -0.09699174761772156, 0.039953019469976425, -0.0003709940647240728, -0.021433835849165916, -0.05013688653707504, -0.03870655596256256, -0.013601662591099739, 0.08565647155046463, -0.007539093494415283, 0.003217501798644662, -0.0727754458785057, 0.020273273810744286, 0.0722636878490448, -0.010294731706380844, 0.024891091510653496, -0.07830841839313507, 0.05118671432137489, -0.014681431464850903, -0.074264295399189, -0.0067949313670396805, -0.06404843926429749, 0.05787741765379906, -0.12257560342550278, -0.05447770655155182, -0.10238480567932129, 0.030252592638134956, 0.056621160358190536, 0.07120732218027115, 0.11148544400930405, -0.08195635676383972, -0.031160512939095497, -0.04393186792731285, 0.0230306014418602, 0.009944101795554161, -0.07449517399072647, -0.04648389294743538, -0.10715807974338531, -0.03578842431306839, -0.06770331412553787, -0.0163983516395092, -0.03796699270606041, -0.014722869731485844, -0.026086926460266113, -0.03247733414173126, -0.04055532440543175, -0.015501141548156738, -0.02690351940691471, -0.004770292434841394, 0.026930280029773712, 0.0017494623316451907, -0.0022524623200297356, -0.014435266144573689, -0.019598597660660744, 0.13248641788959503, -0.02486558072268963, -0.015169338323175907, -0.006800367031246424, -0.0015323663828894496, -0.039113979786634445, -0.04258354380726814, -0.03464335948228836, -0.01180174108594656, 0.07150085270404816, -0.06950880587100983, 0.032131046056747437, -0.012208571657538414, -0.07236220687627792, -0.09097383171319962, 0.0016071312129497528, -0.11048458516597748, 0.0794639140367508, 0.0393281988799572, 0.03909572958946228, 0.062272630631923676, 0.033415574580430984, 0.03305483236908913, 0.009646485559642315, -0.061361875385046005, -0.06575101613998413, 0.052056677639484406, 0.12853063642978668, -0.04095813259482384, 0.005786641966551542, 0.10667940974235535, 0.02132525108754635, 0.046804264187812805, 0.023909565061330795, -0.0038559131789952517, -0.05641298368573189, 0.0561940036714077, -0.012095536105334759, 0.03667042404413223, 0.03177408501505852, 0.06212184578180313, 0.019195687025785446, -0.12495230883359909, -0.0012662439839914441, -0.10272085666656494, -0.05911044403910637, -0.0588817223906517, -0.007432776968926191, -0.0034656773786991835, -0.07954028248786926, -0.10103616118431091, 0.07616198062896729, 0.0035551756154745817, 0.11702302098274231, 0.04843054711818695, 0.008429676294326782, -0.013829434290528297, -0.017233004793524742, 0.0909908264875412, 0.031027687713503838, 0.016532154753804207, 0.019172577187418938, -0.061839886009693146, -0.03782575577497482, -2.075924860262083e-33, 0.011447431519627571, 0.025898775085806847, 0.022036688402295113, -0.029110169038176537, 0.01721029356122017, -0.05515822768211365, -0.03153271973133087, -0.03570990264415741, 0.022749880328774452, -0.006721303798258305, 0.031787775456905365, 0.09876075387001038, -0.016353240236639977, -0.03998224064707756, -0.0316065289080143, 0.010218175128102303, -0.09202678501605988, 0.013100667856633663, -0.027076592668890953, -0.054735857993364334, -0.01834510639309883, -0.015640949830412865, 0.018894439563155174, 0.09257398545742035, -0.03590977564454079, -0.040471166372299194, 0.012129510752856731, 0.028927018865942955, -0.01622260920703411, 0.041464123874902725, -0.057240258902311325, 0.018305111676454544, -0.03317814692854881, -0.0718473494052887, -0.0291232168674469, 0.03223307803273201, -0.07295632362365723, -0.05857286602258682, 0.1273382008075714, 0.02822287753224373, -0.01997332274913788, 0.036931440234184265, -0.005289603024721146, -0.03765368089079857, -0.057882823050022125, 0.12871383130550385, 0.01728539727628231, -0.016146346926689148, -0.051796749234199524, 0.1060783788561821, -0.03488140553236008, -0.002470470732077956, -0.03305422514677048, -0.04829883575439453, -0.013579501770436764, -0.006567437667399645, -0.012360001914203167, 0.011089347302913666, 0.03965826332569122, -0.03767547383904457, 0.0046935854479670525, 0.054366011172533035, 0.011237088590860367, -0.02670241706073284, -0.003726943861693144, -0.011492343619465828, -0.07263723015785217, -0.03672188147902489, -0.07258361577987671, -0.01220566127449274, -0.10577897727489471, 0.03595653176307678, 0.04183913394808769, -0.04179190471768379, -0.01705625094473362, -0.04861069470643997, -0.03871249407529831, 0.028229258954524994, -0.028832729905843735, -0.04147934541106224, 0.055033981800079346, 0.006276511121541262, 0.008879314176738262, -0.050870828330516815, -0.029177064076066017, -0.023948023095726967, -0.004456511698663235, -0.06553121656179428, 0.01248818077147007, -0.015418363735079765, 0.0625297799706459, 0.024023903533816338, -0.00997213739901781, -0.10788995772600174, -0.039121679961681366, -7.402941997242214e-34, 0.027129946276545525, -0.06258437037467957, -0.01854005642235279, 0.07730375230312347, -0.017087439075112343, -0.022056162357330322, -0.1095077246427536, 0.016540031880140305, 0.05785038322210312, -0.011262310668826103, -0.05760218948125839, 0.11594564467668533, 0.05220037326216698, -0.023218441754579544, 0.0238952599465847, -0.08968353271484375, -0.01612122356891632, 0.05987796559929848, 0.010472739115357399, 0.03598886355757713, 0.028348153457045555, 0.025428054854273796, -0.10035597532987595, -0.06665949523448944, 0.04512426257133484, 0.02231954038143158, 0.03257676959037781, -0.06007954105734825, -0.02825073152780533, 0.018122220411896706, 0.11953430622816086, 0.02166236937046051, 0.027768101543188095, -0.020913949236273766, 0.02415921911597252, -0.01612573303282261, 0.09975893795490265, -0.03996194154024124, 0.029568690806627274, -0.09323982894420624, 0.05432318150997162, 0.04207584634423256, 0.06640319526195526, -0.020480217412114143, 0.006071923766285181, 0.027091043069958687, 0.029346119612455368, 0.11077992618083954, 0.005828980356454849, -0.04922598600387573, -0.05873344838619232, 0.02214757911860943, -0.008471771143376827, -0.03497883677482605, 0.0038675041869282722, -0.03997810557484627, 0.00997922383248806, -0.03260236606001854, 0.04194704443216324, 0.027410978451371193, -0.08247386664152145, 0.03479992598295212, -0.00563032878562808, 0.002655879594385624, -0.03875100612640381, -0.0066628726199269295, -0.033550601452589035, 0.07686088234186172, 0.020168038085103035, -0.029213638976216316, 0.017891185358166695, -0.04296780750155449, -0.03485289216041565, -0.02886039949953556, -0.02600059099495411, 0.024988001212477684, 0.09586299955844879, -0.015728209167718887, -0.03590068221092224, 0.0030609075911343098, 0.06982764601707458, -0.007302359212189913, -0.014784527011215687, 0.003971575293689966, 0.04619172587990761, 0.061779141426086426, 0.0030926421750336885, 0.011641914956271648, -0.09443704038858414, -0.044520217925310135, 0.047298163175582886, -0.01541106216609478, 0.024463262408971786, -0.0037041869945824146, 0.15667586028575897, -3.11123180551931e-08, -0.000401596596930176, -0.0484592504799366, 0.01731780730187893, -0.01958625018596649, 0.046626653522253036, 0.014895317144691944, 0.03596586361527443, -0.012643881142139435, -0.044721003621816635, 0.04963202401995659, 0.04631130024790764, 0.013928398489952087, 0.010472876019775867, 0.04318893700838089, -0.023688893765211105, 0.06790625303983688, 0.03962014243006706, -0.05079909786581993, -0.026322685182094574, 0.05090601369738579, 0.0638364627957344, 0.04309327155351639, 0.09186693280935287, -0.08300623297691345, 0.052381958812475204, 0.08934984356164932, 0.011660496704280376, -0.09777040034532547, 0.028784828260540962, 0.0016304180026054382, 0.05992220342159271, 0.04953480511903763, 0.02064027637243271, -0.014023981988430023, -0.05005446821451187, 0.039204131811857224, -0.07121776789426804, 0.004398927558213472, 0.09398313611745834, 0.01560010015964508, 0.001883450080640614, -0.04261760786175728, 0.0338485985994339, 0.02920718677341938, -0.04160166159272194, -0.02331712283194065, -0.014979763887822628, 0.014211928471922874, -0.023919520899653435, 0.02395467832684517, -0.03784886747598648, 0.03486863896250725, 0.12883153557777405, 0.04237087070941925, 0.05341380089521408, 0.021502960473299026, 0.0064218007028102875, 0.12199603021144867, -0.057622261345386505, -0.02358013577759266, 0.08629055321216583, 0.012414167635142803, 0.007109551690518856, 0.03906932845711708], 'authors': \"['Richard Abanes']\", 'categories': \"['Religion']\", 'averagerating': 4.0, 'maturityrating': 'NOT_MATURE', 'publisheddate': '2001', 'pagecount': 275.0}}, {'_index': 'books', '_id': 'Wy-Kxu3A7x8C', '_score': 6.0506496, '_source': {'id': 'Wy-Kxu3A7x8C', 'title': 'Teaching with Harry Potter', 'desc': \"The Harry Potter phenomenon created a surge in reading with a lasting effect on all areas of culture, especially education. Today, teachers across the world are harnessing the power of the series to teach history, gender studies, chemistry, religion, philosophy, sociology, architecture, Latin, medieval studies, astronomy, SAT skills, and much more. These essays discuss the diverse educational possibilities of J.K. Rowling's books. Teachers of younger students use Harry and Hermione to encourage kids with disabilities or show girls the power of being brainy scientists. Students are reading fanfiction, splicing video clips, or exploring Rowling's new website, Pottermore. Harry Potter continues to open new doors to learning.\", 'desc_vector': [-0.005997893400490284, -0.051945123821496964, -0.022708365693688393, 0.02022458240389824, -0.10419024527072906, -0.00673674838617444, -0.03772095590829849, -0.0089927539229393, 0.017692411318421364, -0.01567063480615616, -0.028487062081694603, 0.09829602390527725, -0.0502801313996315, 0.01991676166653633, -0.048783283680677414, -0.061409156769514084, -0.045635681599378586, 0.08702602237462997, -0.05078538879752159, -0.03799542039632797, -0.020043058320879936, -0.006110283080488443, 0.05562485754489899, 0.004662629216909409, 0.024431612342596054, 0.02772718295454979, 0.0044677406549453735, -0.04552146792411804, -0.0828309953212738, 0.01735525019466877, -0.04094119742512703, 0.013162275776267052, -0.08825138956308365, -0.02551080659031868, -0.05209954455494881, 0.02542703039944172, 0.018734950572252274, 0.057686660438776016, 0.06949574500322342, -0.01955663226544857, -0.04229285567998886, -0.06512859463691711, -0.040807463228702545, 0.042184293270111084, 0.01245998777449131, -0.022066630423069, -0.024968044832348824, -0.05571984127163887, -0.04328345134854317, 0.024840274825692177, -0.02553783729672432, -0.03173317387700081, -0.04038233682513237, -0.11421684920787811, -0.017828311771154404, -0.009572919458150864, 0.02687675878405571, 0.05040338635444641, 0.054268885403871536, -0.004458710551261902, -0.016234781593084335, -0.05125522240996361, -0.04599045589566231, 0.10399934649467468, 5.202102329349145e-05, -0.08255951851606369, -0.026036620140075684, 0.09355617314577103, -0.003612308297306299, -0.025559386238455772, -0.005753227509558201, 0.07550857961177826, 0.13181357085704803, 0.06114117056131363, 0.09366502612829208, -0.0025254380889236927, -0.09106645733118057, -0.07359664142131805, 0.04462282732129097, -0.031618498265743256, 0.04063636064529419, -0.032315999269485474, 0.04308641329407692, 0.035302236676216125, 0.015403220430016518, -0.03474767506122589, 0.007368725724518299, -0.03443228080868721, -0.03468106687068939, 0.011621669866144657, 0.03215142339468002, 0.0186037365347147, 0.008383708074688911, 0.07704874128103256, 0.001506985747255385, 0.049163706600666046, 0.03784240782260895, -0.026467042043805122, -0.07962250709533691, -0.0075253383256495, -0.0046925912611186504, 0.06796625256538391, 0.08929096162319183, 0.07709218561649323, -0.015985451638698578, -0.0908513143658638, 0.004676119890064001, -0.10601494461297989, -0.03584136813879013, -0.03858290985226631, -0.012131819501519203, 0.00285533769056201, -0.10806765407323837, -0.06525358557701111, 0.04806169494986534, -0.023994721472263336, 0.09020877629518509, 0.007174658589065075, 0.01003220397979021, -0.03973137587308884, -0.015614980831742287, 0.033857110887765884, 0.009654813446104527, -0.05575702339410782, 0.019818421453237534, -0.11950600147247314, -0.06435369700193405, 2.0693417245554935e-33, 0.031604450196027756, 0.043667271733284, 0.007315780967473984, 0.042466018348932266, -0.027603955939412117, 0.010754203423857689, 0.0005481272819451988, -0.027633657678961754, 0.0018406123854219913, -0.05647557973861694, 0.027017531916499138, 0.026631640270352364, -0.030655354261398315, -0.0034762497525662184, 0.0024952662643045187, -0.008134138770401478, -0.08442546427249908, -0.02536742575466633, -0.003716895589604974, 0.047048695385456085, 0.036961089819669724, -0.034447550773620605, 0.05090005695819855, 0.07581648230552673, -0.07427316159009933, -0.0379633754491806, 0.027277491986751556, 0.01656581088900566, -0.005107901990413666, 0.03571620583534241, -0.0024342930410057306, -0.040442779660224915, -0.11091610789299011, -0.1042080670595169, -0.04520750045776367, -0.057009048759937286, 0.05728858336806297, -0.08099865913391113, 0.0928809866309166, 0.012562733143568039, 0.020440157502889633, -0.024093616753816605, 0.010680820792913437, -0.038885682821273804, -0.07014896720647812, 0.14755843579769135, 0.06672660261392593, 0.021214762702584267, -0.04705865681171417, 0.07450446486473083, -0.0589180588722229, -0.055421143770217896, -0.05726911500096321, -0.09118180721998215, 0.02834242582321167, 0.1025649681687355, 0.01493725273758173, 0.027576671913266182, 0.07590467482805252, -0.054200779646635056, 0.0287227351218462, 0.08268660306930542, 0.04911084845662117, 0.04621481895446777, 0.039005812257528305, 0.059296004474163055, -0.03110780194401741, -0.023197408765554428, -0.009717571549117565, -0.024597233161330223, -0.0907885730266571, -0.03310496360063553, -0.03336706757545471, -0.026264630258083344, -0.04536022990942001, -0.000918390869628638, -0.001165383611805737, -0.02528928965330124, -0.012224315665662289, -0.09001991152763367, 0.07981313019990921, 0.0009468933567404747, 0.02117430977523327, -0.05185871571302414, -0.011552965268492699, -0.0411076582968235, 0.003056091722100973, -0.09482897818088531, 0.036332253366708755, -0.0017856168560683727, 0.07869294285774231, -0.03361348807811737, 0.03383313864469528, -0.05884396657347679, 0.0065400428138673306, -4.116884641058957e-33, 0.04688870161771774, -0.03537936881184578, -0.04240397736430168, 0.01975264959037304, 0.01771373488008976, 0.04885675385594368, -0.036744337528944016, 0.015344289131462574, 0.07632356137037277, -0.04295339807868004, -0.07408541440963745, 0.03326820954680443, -0.00948873907327652, 0.021516337990760803, -0.04158788546919823, -0.07093650102615356, 0.007069629151374102, 0.01350262202322483, -0.049608178436756134, 0.011587736196815968, -0.013299567624926567, 0.03681580722332001, -0.06809055805206299, -0.04193158075213432, 0.012820882722735405, -0.02660062350332737, -0.03720713406801224, -0.045968301594257355, -0.052278317511081696, 0.1234208345413208, 0.14373856782913208, -0.027809590101242065, 0.02236451767385006, -0.013069470413029194, -0.03805503994226456, 0.02559645101428032, 0.04358309134840965, -0.011857787147164345, -0.02739940769970417, -0.0503375381231308, 0.03530750796198845, 0.0008376857149414718, 0.01245908997952938, -0.04441045969724655, 0.017939817160367966, 0.05422510951757431, 0.029873525723814964, 0.07810427248477936, -0.024793488904833794, 0.02514282613992691, -0.036112286150455475, 0.02445434033870697, -0.028363512828946114, -0.07154201716184616, 0.06591079384088516, -0.00051968137267977, 0.07349584996700287, -0.009978702291846275, -0.017754532396793365, -0.007514007389545441, -0.063627690076828, -0.07525773346424103, -0.029757006093859673, 0.031891390681266785, -0.03996071591973305, -0.10461622476577759, -0.03644881770014763, 0.043907031416893005, 0.016576280817389488, -0.025885289534926414, 0.08099887520074844, 0.0026945292484015226, -0.026416515931487083, -0.05355663597583771, -0.01956605166196823, 0.08340585231781006, 0.030198873952031136, 0.012439370155334473, -0.05005350336432457, 0.05520859733223915, 0.023798158392310143, 0.03269946947693825, 0.002798383589833975, -0.01932496950030327, 0.07374656945466995, -0.010897314175963402, 0.0025182580575346947, 0.060281772166490555, 0.007732564117759466, -0.08901438862085342, 0.07125010341405869, -0.002692905254662037, 0.025967862457036972, -0.03093774989247322, 0.03168725222349167, -4.6373880735472994e-08, -0.06611819565296173, -0.04705916345119476, 0.02763461507856846, -0.010514591820538044, 0.02413063682615757, 0.019808946177363396, -0.007692281156778336, 0.05348020792007446, 0.031441207975149155, 0.041965238749980927, 0.06014036014676094, -0.015145596116781235, 0.006617470644414425, 0.005703001283109188, 0.06847722083330154, 0.053677309304475784, 0.07130958884954453, 0.012480123899877071, -0.02017373777925968, 0.04797317460179329, 0.08337725698947906, -0.05063848942518234, 0.015245764516294003, -0.0401088111102581, 0.0003704142873175442, 0.09077673405408859, 0.015296878293156624, -0.06748123466968536, -0.02868812531232834, -0.029087292030453682, 0.07619480043649673, 0.002599483821541071, 0.049973178654909134, -0.10662654787302017, -0.033411554992198944, 0.024845652282238007, 0.01533011719584465, 0.057431481778621674, 0.07934384047985077, 0.02547241561114788, -0.015214962884783745, -0.1563815176486969, 0.09062319993972778, 0.0868542343378067, -0.07871556282043457, 0.06616197526454926, -0.013988637365400791, 0.007587970234453678, 0.02110714092850685, 0.030584169551730156, -0.07535825669765472, 0.025870630517601967, 0.11960204690694809, -0.0933382660150528, 0.06150331348180771, 0.05761697515845299, -0.012045620009303093, 0.1259571611881256, -0.06031789630651474, -0.00846517737954855, 0.0984649732708931, 0.04296758025884628, -0.02574136294424534, 0.036684878170490265], 'authors': \"['Valerie Estelle Frankel']\", 'categories': \"['Literary Criticism']\", 'averagerating': 4.0, 'maturityrating': 'NOT_MATURE', 'publisheddate': '2013-02-21', 'pagecount': 288.0}}, {'_index': 'books', '_id': '949zPwAACAAJ', '_score': 6.0506496, '_source': {'id': '949zPwAACAAJ', 'title': 'The Harry Bosch Mysteries', 'desc': \"Contains three Harry Bosch novels. THE BLACK ECHO: A body found in a tunnel off Mulholland Drive looks like a routine drugs overdose case, but one new puncture wound amidst the scars of old tracks leaves LAPD detective Harry Bosch unconvinced. To make matters worse, Bosch recognises the victim: Billy Meadows was a fellow 'tunnel rat' in Vietnam. Bosch believes he let down Billy once before, so now he is determined to bring the killer to justice. THE BLACK ICE: When the body of a missing LAPD narcotics officer is found, rumours soon emerge that he had been selling a new drug called Black Ice from Mexico. The LAPD are quick to declare the death as a suicide, but Bosch is not so sure. Fighting an attraction to the cop's widow, Bosch starts his own maverick investigation, which soon leads him over the borders, and into a dangerous world of shifting identities and deadly corruption. THE CONCRETE BLONDE: When Bosch shot and killed Norman Church, he was convinced it marked the end of the search for one of the city's most bizarre serial killers. But four years later, Church's widow is taking Bosch to court, accusing him of killing the wrong man. To make matters worse, Bosch has just received a note, eerily reminiscent of the ones the killer used to taunt him with. As he battles to clear his name in court, Bosch faces a desperate race against time to find the killer...\", 'desc_vector': [-0.07512759417295456, -0.036210838705301285, -0.0584707111120224, 0.005152470897883177, 0.04958702251315117, 0.035093359649181366, -0.05412991717457771, 0.013370177708566189, 0.04321207106113434, -0.03348209336400032, 0.04792366176843643, -0.007059764117002487, -0.0066403974778950214, -0.05043640360236168, -0.03848102688789368, 0.029933027923107147, 0.026959765702486038, -0.021490782499313354, -0.023687591776251793, 0.013081579469144344, -0.05112059786915779, 0.045699089765548706, 0.03483074903488159, -0.07753553241491318, -0.04098453000187874, 0.02487553469836712, 0.11096001416444778, -0.09022466093301773, -0.08415724337100983, -0.004821327980607748, 0.004974191542714834, 0.050993941724300385, -0.13229164481163025, -0.0029246925842016935, 0.10231795907020569, -0.06994207948446274, 0.0632934495806694, 0.0758768618106842, -0.018720274791121483, -0.0068634310737252235, -0.027629433199763298, -0.05527456849813461, -0.004619465675204992, 0.066473588347435, 0.004799666348844767, -0.024634135887026787, 0.019811220467090607, -0.010073170065879822, 0.053178347647190094, -0.061917953193187714, -0.023468729108572006, 0.003861600998789072, -0.025909965857863426, 0.05715993419289589, -0.017197661101818085, -0.03155674785375595, 0.0416724868118763, 0.0634327232837677, -0.01137055829167366, -0.014185628853738308, 0.010172353126108646, 0.001171490759588778, 0.07010339945554733, -0.03285336494445801, 0.09969335049390793, -0.010423683561384678, -0.020994432270526886, -0.1140650287270546, -0.033310018479824066, 0.08564205467700958, 0.08894979953765869, 0.0007224738947115839, 0.0478990375995636, -0.051004525274038315, -0.009281281381845474, 0.011717865243554115, -0.05365262180566788, -0.06504114717245102, -0.02083778567612171, -0.04588277265429497, 0.024284107610583305, 0.0026242544408887625, -0.00837947241961956, 0.02892989292740822, 0.039400070905685425, 0.018868351355195045, 0.0057722050696611404, -0.027599142864346504, -0.021309128031134605, -0.020202871412038803, -0.027118230238556862, -0.0559384748339653, -0.07726269960403442, -0.05402215197682381, 0.022662391886115074, 0.017720503732562065, 0.01695040799677372, 0.10189753770828247, -0.058597639203071594, -0.004835634957998991, -0.014072543941438198, -0.042085859924554825, -0.035645030438899994, -0.05176646262407303, -0.009674016386270523, 0.045268621295690536, 0.0177474208176136, 0.03206385672092438, 0.03689483925700188, -0.02480626478791237, 0.04517069458961487, 0.0004202592826914042, -0.05228617787361145, 0.004361405503004789, 0.09626101702451706, -0.030917705968022346, 0.00820737425237894, -0.02138962224125862, -0.04105838015675545, 0.10449959337711334, 0.001951604150235653, 0.06684602797031403, -0.10846799612045288, 0.054748211055994034, -0.010072737000882626, 0.047097716480493546, 0.08310253173112869, 2.8697117671303956e-33, 0.09271861612796783, -0.034966640174388885, -0.07829924672842026, -0.05131818726658821, 0.10666010528802872, 0.023391351103782654, -0.0620955154299736, -0.009153194725513458, 0.05689109489321709, 0.05923648178577423, -0.050279345363378525, -0.10705190151929855, -0.10683323442935944, -0.027744818478822708, -0.04556576535105705, 0.06751558929681778, -0.022079618647694588, -0.054673682898283005, 0.020357243716716766, -0.05578746646642685, 0.039850227534770966, 0.006391206756234169, -0.1017613559961319, 0.014098587445914745, -0.09052503108978271, 0.103970006108284, -0.01594923995435238, 0.02236005663871765, 0.03492435812950134, 0.018660303205251694, -0.108675017952919, 0.09021390229463577, 0.0006009964272379875, -0.04771735146641731, -0.002464835997670889, 0.03133773058652878, -0.05247513949871063, -0.00034652414615266025, -0.015394020825624466, -0.060089677572250366, -0.011245992965996265, 0.03730260580778122, -0.015318089164793491, -0.07244852185249329, -0.04207439348101616, -0.037245094776153564, -0.08851693570613861, -0.05903342738747597, 0.005330224987119436, 0.004836640320718288, 0.025536436587572098, -0.026069439947605133, 0.06930603086948395, -0.021441828459501266, -0.0016179722733795643, 0.063897505402565, -0.029213059693574905, -0.030430005863308907, 0.08715320378541946, 0.07583042979240417, 0.0697539672255516, 0.0643991157412529, -0.038056932389736176, 0.08254661411046982, -0.029543766751885414, -0.04186085984110832, -0.01935528591275215, -0.005896449089050293, -0.015060365200042725, -0.016060637310147285, -0.08777853101491928, -0.0008080790867097676, 0.04558143392205238, -0.06698200851678848, -0.06088581308722496, -0.04511415213346481, 0.02822304144501686, 0.035242654383182526, 0.03745419904589653, -0.044741448014974594, -0.0479845367372036, 0.03471437469124794, -0.0042645689100027084, -0.019258612766861916, -0.09918586164712906, 0.01944100111722946, -0.039204854518175125, -0.10060395300388336, -0.10443999618291855, 0.04846947267651558, -0.013791870325803757, -0.059475138783454895, -0.045847088098526, 0.021772271022200584, -0.044978849589824677, -6.423274352349365e-33, -0.018081020563840866, -0.045232318341732025, 0.03027757629752159, -0.029553990811109543, -0.014998333528637886, 0.025644682347774506, -0.03765244409441948, 0.00727472361177206, 0.059840504080057144, -0.04853620007634163, -0.05310334265232086, 0.028228934854269028, -0.0415131114423275, 0.028638048097491264, 0.05983857810497284, -0.042115211486816406, -0.00038948882138356566, -0.034320980310440063, 0.003411415033042431, 0.11245269328355789, 0.0011325405212119222, 0.0296638086438179, 0.003693761071190238, -0.015102289617061615, 0.026260316371917725, 0.03217083215713501, 0.03918477147817612, 0.0385139174759388, -0.05940627306699753, -0.006499877665191889, 0.03977353498339653, 0.016159798949956894, -0.012017134577035904, -0.009736611507833004, -0.053732410073280334, 0.049204397946596146, 0.011243365705013275, -0.034921932965517044, -0.07142835855484009, -0.02849292941391468, 0.1630748063325882, -0.05199791118502617, -0.04895162954926491, 0.05177738517522812, -0.013722860254347324, -0.039188724011182785, 0.011791998520493507, 0.03014184534549713, -0.006023443304002285, 0.005312783177942038, 0.038068030029535294, 0.03495841473340988, -0.036777812987565994, 0.03905279189348221, 0.027682775631546974, -0.04002431035041809, -0.034460585564374924, -0.09747205674648285, -0.016687829047441483, 0.034312985837459564, -0.06027985364198685, 0.1057375967502594, -0.03591575101017952, 0.11108265817165375, 0.010636819526553154, -0.029658382758498192, -0.05233472213149071, -0.03427671641111374, -0.024488691240549088, -0.01150426920503378, 0.035368651151657104, -0.030396567657589912, -0.02101898193359375, 0.06646166741847992, 0.07185029238462448, -0.09341859817504883, -0.043070171028375626, -0.018083050847053528, -0.0868479385972023, 0.017979415133595467, -0.009084667079150677, -0.0812787339091301, 0.028968458995223045, 0.11693637073040009, 0.027883531525731087, 0.02282075397670269, 0.002133333822712302, 0.021428043022751808, 0.05271000415086746, 0.007636387832462788, 0.010610583238303661, 0.007379000075161457, 0.021343138068914413, 0.024304451420903206, -0.07571665197610855, -6.684106779175636e-08, -0.01790343038737774, 0.0333157442510128, 0.054636985063552856, -0.021555738523602486, 0.007439111825078726, -0.10479478538036346, -0.038424983620643616, 0.08353092521429062, 0.011619869619607925, 0.060188405215740204, 0.003677699016407132, -0.003116627922281623, 0.015192561782896519, -0.011285069398581982, -0.025561902672052383, 0.04271284118294716, 0.05635744333267212, -0.10991081595420837, 0.0016508528497070074, -0.021632863208651543, -0.054591353982686996, -0.007996675558388233, 0.09041054546833038, -0.03907419741153717, 0.07470251619815826, 0.06254550069570541, -0.07188389450311661, -0.0362236425280571, -0.021614952012896538, 0.12384457886219025, -0.07231542468070984, 0.05888988822698593, 0.06708619743585587, 0.029483312740921974, 0.05194671452045441, -0.03399505093693733, 0.12913741171360016, 0.07758324593305588, -0.02268204838037491, -0.024347174912691116, -0.030673861503601074, 0.07732068002223969, -0.02104937843978405, -0.0293282363563776, 0.028377590700984, -0.04582495614886284, -0.016355546191334724, -0.025150466710329056, 0.05499503016471863, 0.08020206540822983, -0.0095750717446208, -0.022480031475424767, 0.02503247931599617, 0.058957088738679886, -0.020937535911798477, -0.0662408396601677, 0.021512974053621292, -0.017068155109882355, -0.10992249846458435, -0.032501090317964554, 0.109332375228405, -0.01645502634346485, -0.020000506192445755, 0.03161917254328728], 'authors': \"['Michael Connelly']\", 'categories': \"['Bosch, Harry (Fictitious character)']\", 'averagerating': 4.5, 'maturityrating': 'NOT_MATURE', 'publisheddate': '2008', 'pagecount': 759.0}}, {'_index': 'books', '_id': 'iOUQzQEACAAJ', '_score': 6.0506496, '_source': {'id': 'iOUQzQEACAAJ', 'title': 'The Harry Bosch Novels', 'desc': 'For the first time in one volume, the three novels that introduced Michael Connelly\\'s great LAPD homicide detective, maverick Hieronymous (Harry) Bosch. The Black Echo (Winner of the Edgar Award for Best First Novel) For Harry Bosch-hero, loner, nighthawk-the body stuffed in a drainpipe off Mulholland Drive isn\\'t just another statistic. This one is personal. Billy Meadows was a fellow Vietnam \"tunnel rat,\" fighting the VC and the fear they used to call the Black Echo. Harry let Meadows down once. He won\\'t do it again. The Black Ice The corpse in the hotel room seems to be that of a missing LAPD narcotics officer. Rumors abound that the cop had crossed over-selling a new drug called Black Ice. Now Harry\\'s making some dangerous connections, leading from the cop to a string of bloody murders, and from Hollywood Boulevard\\'s drug bazaar to Mexico\\'s dusty back alleys. In this lethal game, Harry is likely to be the next victim. The Concrete Blonde When Harry Bosch shot and killed Norman Church, the police were convinced it marked the end of the hunt for the Dollmaker-L.A.\\'s most bizarre serial killer. But now Church\\'s widow is accusing Harry of killing the wrong man-a charge that rings terrifyingly true when a new victim is discovered with the Dollmaker\\'s macabre signature. For the second time, Harry must hunt the murderer down, before he strikes again. Together, these three novels are the perfect way to discover, or rediscover, the sleuth the New York Times Book Review called a \"wonderful, old-fashioned hero who isn\\'t afraid to walk through the flames.\"', 'desc_vector': [-0.06028023362159729, -0.01530944462865591, -0.08373182266950607, -0.006036398001015186, -0.0045552016235888, 0.052689388394355774, -0.025984542444348335, -0.027257194742560387, 0.05345351621508598, -0.040457334369421005, 0.026970170438289642, 0.029542123898863792, -0.004575852770358324, -0.02977614663541317, -0.028083737939596176, 0.044672783464193344, 0.06843207031488419, -0.025812996551394463, -0.023472612723708153, -0.017850978299975395, -0.059998732060194016, 0.020066337659955025, 0.08110255748033524, -0.058337654918432236, -0.03826254606246948, -0.06895080208778381, 0.08068813383579254, -0.020154425874352455, -0.09377187490463257, -0.04801183193922043, -0.016996532678604126, 0.037631891667842865, -0.1208476796746254, -0.03451754152774811, 0.16593602299690247, -0.05305149033665657, 0.04601962864398956, 0.07428862899541855, 0.021563110873103142, -0.008645664900541306, -0.0019488813122734427, -0.07982434332370758, -0.01195708941668272, 0.10616537183523178, -0.03462203964591026, -0.0384293794631958, -0.0054248603992164135, -0.022180180996656418, 0.041067980229854584, -0.05692392587661743, 0.04467543959617615, 0.068190798163414, -0.030531521886587143, 0.05362182483077049, -0.012345995754003525, -0.014074155129492283, 0.056092262268066406, 0.058512501418590546, -0.008850179612636566, -0.08630838245153427, -0.02008996531367302, -0.024322861805558205, 0.08652471750974655, -0.0498083159327507, 0.08221219480037689, -0.05122705176472664, -0.04015665501356125, -0.0569072887301445, 0.016276540234684944, 0.06562089920043945, 0.053385794162750244, 0.015626704320311546, 0.05521511659026146, -0.06850168853998184, 0.021985657513141632, -0.005151771008968353, -0.08158867806196213, -0.05771821737289429, 0.008085930719971657, 0.011637615971267223, 0.06236029788851738, -0.009239209815859795, -0.029832785949110985, 0.029296018183231354, 0.0255130585283041, 0.013096730224788189, -0.03290564939379692, 0.017482871189713478, -0.061316315084695816, -0.022015875205397606, -0.041407324373722076, -0.031243527308106422, -0.08834324032068253, -0.026549726724624634, 0.02112393267452717, -0.050504136830568314, 0.027007604017853737, 0.037778742611408234, -0.037993643432855606, 0.025952287018299103, -0.01644124463200569, -0.03068273887038231, 0.0024151301477104425, -0.06686422228813171, 0.0324825756251812, -0.009284105151891708, 0.07386299967765808, 0.008543875999748707, 0.03960070386528969, -0.048117171972990036, -0.002094506984576583, 0.008135825395584106, 0.02065957523882389, 0.03309089317917824, 0.06131187826395035, -0.029642295092344284, -0.005035105627030134, -0.018024304881691933, -0.03513023629784584, 0.10790765285491943, 0.050357189029455185, 0.0445212721824646, -0.0881740152835846, 0.00871167704463005, -0.05894637852907181, 0.023556066676974297, 0.06589563190937042, 1.8896468418811674e-33, 0.052555155009031296, -0.0056129079312086105, -0.08615406602621078, -0.0032875717151910067, 0.13838984072208405, 0.020833296701312065, -0.05831896886229515, 0.004500890616327524, 0.018510794267058372, 0.06728103011846542, -0.061223823577165604, -0.13093695044517517, -0.08219699561595917, -0.008643414825201035, -0.040483031421899796, 0.07884043455123901, -0.05935299023985863, -0.025253692641854286, -0.009664257057011127, -0.08366630226373672, 0.05349324643611908, 0.06848324090242386, -0.07204427570104599, -0.022402340546250343, -0.06348518282175064, 0.06376844644546509, -0.04991474002599716, 0.039439741522073746, 0.03499862179160118, 0.020762242376804352, -0.050192009657621384, 0.02799762412905693, 0.009250347502529621, -0.0680282860994339, 0.004233257379382849, -0.009975186549127102, -0.05195068195462227, -0.016617238521575928, -0.011931071057915688, -0.03394506499171257, -0.08825156837701797, 0.03383443132042885, -0.06915019452571869, -0.04530080407857895, -0.056619223207235336, 0.0014394083991646767, -0.08593736588954926, -0.047805268317461014, 0.00549378152936697, 0.01973114162683487, 0.017585713416337967, -0.047619082033634186, 0.0032940879464149475, 0.006474190391600132, -0.019298778846859932, 0.01321350410580635, 0.005383341573178768, -0.0974126085639, 0.06505099684000015, 0.03275209292769432, 0.10072385519742966, 0.10628682374954224, -0.019572045654058456, 0.008151795715093613, -0.011562935076653957, -0.03219808638095856, -0.029035884886980057, -0.0015360445249825716, -0.012233014218509197, -0.015185896307229996, -0.0234440416097641, -0.015207587741315365, 0.05416779965162277, -0.08709119260311127, -0.022349731996655464, -0.014314086176455021, 0.029188137501478195, 0.04842604324221611, 0.027605565264821053, -0.0798373892903328, -0.027019891887903214, 0.061709243804216385, 0.007821419276297092, -0.023715438321232796, -0.10338902473449707, -0.02200387232005596, -0.019985653460025787, -0.08223144710063934, -0.08980049937963486, 0.06730800122022629, -0.02960003726184368, -0.05224412679672241, -0.012346656993031502, -0.011547863483428955, -0.03444008156657219, -3.785974899778821e-33, 0.011414999142289162, 2.7943622626480646e-05, 0.03556125983595848, -0.05826057493686676, 0.028847655281424522, 0.007787015289068222, -0.011990450322628021, -0.03669334203004837, 0.0683855414390564, -0.03861905634403229, -0.06830506771802902, 0.04002954065799713, -0.01262732781469822, 0.06167269125580788, 0.13241401314735413, -0.030412325635552406, 0.013915164396166801, -0.04909062013030052, 0.011998639442026615, 0.14118799567222595, -0.004706510808318853, 0.020376592874526978, -0.03758521005511284, -0.039625611156225204, 0.028633954003453255, 0.03146734461188316, 0.05548878759145737, 0.07002346217632294, -0.02966025471687317, 0.0006937652360647917, 0.04948093742132187, 0.032614704221487045, -0.006406577304005623, 0.02872627228498459, -0.03094610385596752, 0.0709143653512001, 0.04693528264760971, -0.03913114592432976, -0.11131656914949417, -0.05214064568281174, 0.20984263718128204, -0.06474173069000244, -0.07309390604496002, 0.0456327460706234, -0.009882734157145023, -0.024845808744430542, -0.014450911432504654, 0.018924467265605927, 0.008802784606814384, 0.014009393751621246, 0.0071811191737651825, 0.01645609363913536, -0.055190104991197586, 0.05541754513978958, 0.03552168980240822, 0.025091983377933502, -0.022393284365534782, -0.07761943340301514, 0.0029336141888052225, 0.05506213754415512, -0.06390897184610367, 0.09450867772102356, -0.06299100816249847, 0.08784278482198715, 0.010032870806753635, -0.0397021509706974, -0.029208019375801086, -0.02864477038383484, -0.026273541152477264, -0.023646153509616852, 0.01553390733897686, 0.01615935005247593, -0.005432012490928173, 0.09116867929697037, 0.04155060276389122, -0.022877106443047523, -0.020787985995411873, -0.0020778386387974024, -0.044064246118068695, 0.008383864536881447, -0.057586390525102615, -0.059958525002002716, 0.0023048233706504107, 0.09440113604068756, 0.063681460916996, 0.01770104095339775, 0.018433265388011932, -0.018478482961654663, 0.023502076044678688, 0.006816316395998001, 0.03326411172747612, 0.01400772389024496, 0.020572328940033913, 0.014462250284850597, -0.03109491802752018, -6.800373597570797e-08, -0.04878612607717514, 0.021082444116473198, 0.050054121762514114, -0.018497001379728317, -0.011852364055812359, -0.10912307351827621, -0.003430616809055209, 0.07421178370714188, 0.034760165959596634, 0.11379729956388474, 0.01997281052172184, -0.025745896622538567, 0.06131618097424507, -0.036706529557704926, -0.04869438335299492, 0.014913077466189861, 0.007208053953945637, -0.08495548367500305, -0.017831897363066673, -0.027799269184470177, -0.026479404419660568, 0.013501998037099838, 0.06902754306793213, -0.032419949769973755, 0.08456750214099884, 0.045391976833343506, -0.07945417612791061, -0.06846480071544647, -0.02011440135538578, 0.09234677255153656, -0.0014582242583855987, 0.052800118923187256, 0.05643315240740776, 0.0448700487613678, 0.03914770483970642, -0.009102080017328262, 0.12919674813747406, 0.07683118432760239, -0.013830129988491535, -0.013120646588504314, -0.0045699793845415115, 0.018877632915973663, -0.028054986149072647, -0.047101810574531555, 0.06095466390252113, -0.029027938842773438, -0.0018156914738938212, -0.045220714062452316, 0.0267725121229887, 0.08982327580451965, 0.028033556416630745, -0.03098069503903389, 0.04410872235894203, 0.07581363618373871, -0.006311587989330292, -0.08300399780273438, -0.008541465736925602, 0.04716828837990761, -0.07473285496234894, -0.006474604364484549, 0.09862715005874634, 0.007453008554875851, -0.0011407373240217566, 0.007677431218326092], 'authors': \"['Michael Connelly']\", 'categories': \"['Fiction']\", 'averagerating': 4.5, 'maturityrating': 'NOT_MATURE', 'publisheddate': '2001-10-22', 'pagecount': 800.0}}, {'_index': 'books', '_id': 'XyQOzxb7seQC', '_score': 6.0506496, '_source': {'id': 'XyQOzxb7seQC', 'title': 'Harry Potter and Philosophy', 'desc': \"In Harry Potter and Philosophy, seventeen philosophical experts unlock some of Hogwarts' secret panels, and uncover surprising insights that are enlightening both for wizards and the most discerning muggles.\", 'desc_vector': [-0.0507996566593647, 0.0295244287699461, -0.03759640082716942, 0.017633717507123947, -0.0312550887465477, 0.04824008047580719, 0.08882282674312592, -0.06117488071322441, 0.025033561512827873, -0.0020858391653746367, -0.042152926325798035, 0.020645517855882645, -0.04748205468058586, 0.00355834630317986, -0.02186097949743271, -0.06292066723108292, -0.03408563509583473, 0.00859055481851101, -0.06903515011072159, -0.0641259029507637, 0.018151216208934784, -0.07282165437936783, 0.0718548521399498, -0.017271045595407486, -0.007821599952876568, 0.016800109297037125, -0.00026805969537235796, -0.04637439548969269, -0.007004712708294392, -0.03168835490942001, 0.062306854873895645, 0.052813444286584854, -0.04310338944196701, -0.06948094069957733, -0.07120902091264725, -0.008444544859230518, 0.002830682322382927, 0.11666953563690186, 0.09722623229026794, -0.01874781958758831, -0.0063498904928565025, -0.02610843814909458, -0.0587117001414299, 0.05612053722143173, -0.020126767456531525, -0.05696948617696762, -0.029563693329691887, 0.024271968752145767, -0.05131556838750839, -0.04466746002435684, -0.054186541587114334, -0.014230869710445404, -0.049234285950660706, -0.014895821921527386, -0.02109646424651146, 0.001124727656133473, -0.02803095430135727, -0.02537822537124157, 0.026937445625662804, 0.05608204007148743, 0.018861081451177597, -0.012996702454984188, -0.062189266085624695, 0.08840522170066833, 0.0012464895844459534, -0.05038309842348099, 0.0013666293816640973, 0.06061085686087608, 0.04063340276479721, -0.037776295095682144, -0.020438548177480698, 0.03057738207280636, 0.057700276374816895, -0.1021219789981842, 0.06526166945695877, 0.021850040182471275, -0.05549158900976181, -0.03290698304772377, 0.0028353279922157526, -0.06786274164915085, 0.02507074922323227, 0.014897024258971214, 0.016727875918149948, 0.06756257265806198, 0.03798589110374451, -0.04104099050164223, 0.03158107399940491, 0.054874733090400696, 0.001075509237125516, 0.0019232146441936493, 0.03307555988430977, -0.053181540220975876, 0.05463144928216934, 0.06600993126630783, 0.027697525918483734, 0.04613902047276497, -0.004528727848082781, -0.004189836326986551, -0.10066980868577957, 0.07638691365718842, 0.011388332583010197, -0.048789989203214645, 0.07867909967899323, 0.004009732976555824, 0.04331200569868088, -0.0218778308480978, -0.040513020008802414, -0.08508649468421936, 0.11174594610929489, -0.00046591059071943164, 0.03279683738946915, -0.011376213282346725, -0.02300281822681427, -0.052965182811021805, 0.12942515313625336, 0.005986126605421305, 0.04950368404388428, 0.060455258935689926, 0.032885439693927765, 0.0011390787549316883, -0.05806079879403114, 0.07893290370702744, 0.08979727327823639, -0.06866218894720078, -0.007095295004546642, 0.07828381657600403, -0.10034100711345673, 1.00486411375511e-34, 0.0007034207810647786, 0.004364935215562582, -0.031614821404218674, 0.1158212423324585, -0.017096228897571564, 0.037984833121299744, -0.08416363596916199, -0.036879561841487885, -0.00014394706522580236, 0.0895209014415741, 0.015141701325774193, 0.050896771252155304, -0.02611774392426014, 0.027165083214640617, 0.007730587851256132, -0.034376565366983414, -0.04256056994199753, 0.007142561953514814, -0.021535014733672142, -0.06108956038951874, 0.03413410857319832, 0.05356352776288986, 0.0163732897490263, -0.04746508225798607, 0.01624923385679722, -0.022300979122519493, 0.013394871726632118, -0.008431336842477322, 0.0036198238376528025, 0.04994967579841614, -0.020548604428768158, 0.009931132197380066, 0.04477187618613243, 0.01497205626219511, -0.028258441016077995, -0.004813878331333399, -0.008261778391897678, -0.13594083487987518, 0.11891315877437592, -0.10714300721883774, -0.03891966864466667, -0.0645194798707962, 0.017590409144759178, -0.0211638156324625, -0.012812783941626549, 0.07855477184057236, -0.03515162691473961, 0.04025791957974434, -0.012127012945711613, 0.08446289598941803, -0.03833258897066116, 0.048773765563964844, 0.0234390739351511, -0.08979102969169617, -0.014046372845768929, 0.04631301015615463, -0.006521065719425678, 0.0443405918776989, 0.13979652523994446, -0.08102840185165405, -0.05634826794266701, 0.06196698173880577, -0.08168669044971466, -0.049862612038850784, 0.0335669182240963, 0.03849656879901886, -0.030330460518598557, -0.03185214474797249, 0.036958176642656326, 0.028302019461989403, -0.1150420531630516, 0.04691145569086075, -0.07261871546506882, -0.06821822375059128, -0.00547891715541482, -0.017557963728904724, -0.058735191822052, -0.0059111095033586025, -0.05935211852192879, 0.005220083985477686, 0.010888057760894299, 0.01885649934411049, -0.028236854821443558, 0.04873957112431526, 0.007124620955437422, 0.02714971825480461, 0.08572652190923691, 0.010604473762214184, 0.014355690218508244, -0.03720078617334366, 0.07910742610692978, -0.013214558362960815, 0.04750556871294975, -0.06493392586708069, -0.035988181829452515, -2.8173240246760772e-33, -0.006612363737076521, -0.11378046870231628, -0.04735793173313141, 0.006251922808587551, 0.07207730412483215, -0.015938371419906616, -0.08157207816839218, -0.0019193183397874236, -0.030948908999562263, -0.032515253871679306, 0.009928211569786072, 0.0669877827167511, -0.006639004219323397, -0.009758664295077324, 0.02774190902709961, -0.009599008597433567, 0.008662357926368713, 0.019936639815568924, -0.0022033711429685354, -0.014710964635014534, -0.014589901082217693, -0.028014477342367172, -0.16959254443645477, 0.07332087308168411, 0.044597212225198746, -0.0019183264812454581, 0.07571955770254135, -0.06945876032114029, -0.0040286811999976635, 0.03779146820306778, -0.04747740551829338, -0.007776783313602209, -0.05752333253622055, -0.02505279891192913, 0.002517406828701496, 0.0033525528851896524, 0.04743653163313866, -0.020382625982165337, -0.10846880078315735, -0.06568381935358047, 0.007338506635278463, 0.014225000515580177, 0.0005332084256224334, -0.03329052776098251, -0.030453937128186226, -0.02603871002793312, -0.003775145625695586, 0.04190881550312042, -0.07171829044818878, 0.05989642068743706, -0.03407951444387436, -0.03471922129392624, -0.011559735983610153, -0.07784536480903625, 0.0031533101573586464, -0.018997805193066597, 0.01470723282545805, -0.01590915024280548, 0.07962401211261749, -0.02630874328315258, 0.007378355134278536, 0.025409623980522156, -0.05586295574903488, 0.02630099095404148, 0.0494476817548275, -0.010021135210990906, -0.11498118191957474, 0.027114927768707275, -0.04300994053483009, -0.04402239993214607, 0.05255255475640297, -0.04393434897065163, -0.06665196269750595, -0.09637682139873505, 0.07150554656982422, 0.06310762465000153, 0.02784925326704979, -0.03473439812660217, -0.07368801534175873, 0.010011936537921429, 0.12045726180076599, -0.03283447399735451, 0.07369410246610641, -0.019633330404758453, 0.03905397653579712, -0.022477824240922928, 0.029688913375139236, 0.04430330544710159, 0.00971309281885624, -0.005872783251106739, 0.054582078009843826, 0.014342288486659527, 0.018362121656537056, -0.015851223841309547, 0.03373929113149643, -3.2185230480763494e-08, -0.044082604348659515, 0.04179222509264946, 0.03367781266570091, -0.09446012228727341, 0.025754297152161598, -0.012241290882229805, -0.03238973394036293, 0.023646214976906776, -0.028656359761953354, 0.07392271608114243, 0.16029806435108185, -0.006344624329358339, -0.047618817538022995, 0.0672411322593689, 0.013856804929673672, 0.041507430374622345, -0.0324188657104969, 0.06655891239643097, -0.006004690658301115, -0.07487068325281143, 0.04466939717531204, 0.014708551578223705, 0.08584410697221756, 0.02538624219596386, 0.017964372411370277, 0.008421644568443298, -0.07286027818918228, -0.05554845929145813, 0.01724625937640667, 0.06474321335554123, 0.015361483208835125, -0.049323976039886475, 0.10188254714012146, 0.006000927649438381, -0.007297066040337086, 0.08009275794029236, -0.035167135298252106, -0.048053137958049774, 0.07550613582134247, 0.00442832987755537, -0.02600540779531002, -0.17714285850524902, 0.018839918076992035, 0.026271244511008263, -0.05967063084244728, -0.017102094367146492, 0.02083447389304638, 0.04108281061053276, -0.04774972423911095, -0.017145628109574318, -0.06684498488903046, 0.06737256795167923, 0.06462343037128448, -0.020126737654209137, 0.048425279557704926, 0.005392581690102816, -0.02810249663889408, 0.05794806033372879, -0.03158751130104065, -0.06308668106794357, 0.06627598404884338, 0.08134602010250092, 0.012387603521347046, -0.04627818986773491], 'authors': \"['David Baggett', 'Shawn E. Klein']\", 'categories': \"['Philosophy']\", 'averagerating': 3.5, 'maturityrating': 'NOT_MATURE', 'publisheddate': '2004-10-01', 'pagecount': 250.0}}]}}\n",
      "Results appended to result.csv\n"
     ]
    }
   ],
   "source": [
    "search_term = input(\"Enter the title you want to search: \")\n",
    "resp = es.search(\n",
    "    index=\"books\",\n",
    "    query={\n",
    "            \"bool\": {\n",
    "                \"must\": {\n",
    "                    \"match_phrase\": {\n",
    "                        \"title\": search_term,\n",
    "                    }\n",
    "                },\n",
    "                \n",
    "            },\n",
    "        },            \n",
    ")\n",
    "print(resp.body)\n",
    "# Extract hits from the response\n",
    "hits = resp['hits']['hits']\n",
    "\n",
    "# Extract relevant information from each hit\n",
    "data = [{'id': hit['_source']['id'],\n",
    "         'title': hit['_source']['title'],\n",
    "         'desc': hit['_source']['desc'],\n",
    "         'authors': hit['_source']['authors'],\n",
    "         'categories': hit['_source']['categories'],\n",
    "         'averagerating': hit['_source']['averagerating'],\n",
    "         'maturityrating': hit['_source']['maturityrating'],\n",
    "         'publisheddate': hit['_source']['publisheddate'],\n",
    "         'pagecount': hit['_source']['pagecount']} for hit in hits]\n",
    "\n",
    "# Create a DataFrame\n",
    "df_result = pd.DataFrame(data)\n",
    "\n",
    "try:\n",
    "    existing_df = pd.read_csv('result.csv')\n",
    "except FileNotFoundError:\n",
    "    existing_df = pd.DataFrame()\n",
    "\n",
    "    # Append new results to the existing DataFrame\n",
    "updated_df = pd.concat([existing_df, df_result], ignore_index=True)\n",
    "\n",
    "    # Save the updated DataFrame to 'result.csv' (overwrite)\n",
    "updated_df.to_csv('result.csv', index=False)\n",
    "print(\"Results appended to result.csv\")"
   ]
  }
 ],
 "metadata": {
  "kernelspec": {
   "display_name": ".venv",
   "language": "python",
   "name": "python3"
  },
  "language_info": {
   "codemirror_mode": {
    "name": "ipython",
    "version": 3
   },
   "file_extension": ".py",
   "mimetype": "text/x-python",
   "name": "python",
   "nbconvert_exporter": "python",
   "pygments_lexer": "ipython3",
   "version": "3.11.1"
  }
 },
 "nbformat": 4,
 "nbformat_minor": 2
}
